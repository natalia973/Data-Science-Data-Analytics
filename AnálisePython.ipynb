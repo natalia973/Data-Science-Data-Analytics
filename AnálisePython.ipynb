{
  "nbformat": 4,
  "nbformat_minor": 0,
  "metadata": {
    "colab": {
      "provenance": [],
      "authorship_tag": "ABX9TyMEPV3+fA/pZfklQkNNIMig",
      "include_colab_link": true
    },
    "kernelspec": {
      "name": "python3",
      "display_name": "Python 3"
    },
    "language_info": {
      "name": "python"
    }
  },
  "cells": [
    {
      "cell_type": "markdown",
      "metadata": {
        "id": "view-in-github",
        "colab_type": "text"
      },
      "source": [
        "<a href=\"https://colab.research.google.com/github/natalia973/Data-Science-Data-Analytics/blob/main/An%C3%A1lisePython.ipynb\" target=\"_parent\"><img src=\"https://colab.research.google.com/assets/colab-badge.svg\" alt=\"Open In Colab\"/></a>"
      ]
    },
    {
      "cell_type": "code",
      "execution_count": 1,
      "metadata": {
        "id": "I-vwZLwmr_PW"
      },
      "outputs": [],
      "source": [
        "import numpy as np"
      ]
    },
    {
      "cell_type": "code",
      "source": [
        "#cria uma matriz unidimensional\n",
        "matriz = np.array([12,13,15,16,17])\n",
        "print(matriz)\n",
        "print(type(matriz))\n"
      ],
      "metadata": {
        "colab": {
          "base_uri": "https://localhost:8080/"
        },
        "id": "S-0kQfsVvKVI",
        "outputId": "84d21422-2518-4c3d-e25e-6fbd0fcd56ea"
      },
      "execution_count": 2,
      "outputs": [
        {
          "output_type": "stream",
          "name": "stdout",
          "text": [
            "[12 13 15 16 17]\n",
            "<class 'numpy.ndarray'>\n"
          ]
        }
      ]
    },
    {
      "cell_type": "code",
      "source": [
        "#Cria matriz bidimensional\n",
        "k = np.array([[2,1,3],[4,5,6] , [9,20,34]])\n",
        "print(k)\n",
        "#mostra um elemento específico de k\n",
        "print(k[0][1])\n",
        "#formato da matriz k, 3 linhas e 3 colunas\n",
        "print(k.shape)\n",
        "#mostra o desvio padrão da matriz k\n",
        "print(k.std())\n",
        "#mostra a média de k\n",
        "print(k.mean())\n"
      ],
      "metadata": {
        "colab": {
          "base_uri": "https://localhost:8080/"
        },
        "id": "RY5b54I14qkL",
        "outputId": "e7919ffb-fa88-4c12-8cf5-29bc9715be66"
      },
      "execution_count": 13,
      "outputs": [
        {
          "output_type": "stream",
          "name": "stdout",
          "text": [
            "[[ 2  1  3]\n",
            " [ 4  5  6]\n",
            " [ 9 20 34]]\n",
            "1\n",
            "(3, 3)\n",
            "10.241527663824812\n",
            "9.333333333333334\n"
          ]
        }
      ]
    },
    {
      "cell_type": "code",
      "source": [],
      "metadata": {
        "id": "ezaBnwjM4sp7"
      },
      "execution_count": null,
      "outputs": []
    },
    {
      "cell_type": "code",
      "source": [
        "#criar um array com um tipo específico\n",
        "#atribuir o tipo do array para um float de 64 bits.\n",
        "matrizF= np.array([2,3,4,5] , dtype=np.float64)\n",
        "print(matrizF)\n",
        "print(type(matrizF))\n"
      ],
      "metadata": {
        "colab": {
          "base_uri": "https://localhost:8080/"
        },
        "id": "bmBrC9i2xPh_",
        "outputId": "7d7eebbf-9b55-4c7d-8f78-e44986d9c43a"
      },
      "execution_count": 3,
      "outputs": [
        {
          "output_type": "stream",
          "name": "stdout",
          "text": [
            "[2. 3. 4. 5.]\n",
            "<class 'numpy.ndarray'>\n"
          ]
        }
      ]
    },
    {
      "cell_type": "code",
      "source": [
        "#Converter um array float em um array inteiro\n",
        "matrizFloat = np.array([2.6 , 7.8 , 9.0, 3.5], dtype = np.int8)\n",
        "print(matrizFloat)\n",
        "\n",
        "\n"
      ],
      "metadata": {
        "colab": {
          "base_uri": "https://localhost:8080/"
        },
        "id": "aQi7SHozzKuQ",
        "outputId": "fd14de28-c5d1-4dc6-bb97-0c677ebb178d"
      },
      "execution_count": 4,
      "outputs": [
        {
          "output_type": "stream",
          "name": "stdout",
          "text": [
            "[2 7 9 3]\n"
          ]
        }
      ]
    },
    {
      "cell_type": "code",
      "source": [
        "#Matrizes  - Cria uma matriz quadrada com a diagonal principal com valores 1 e os outros 0.\n",
        "diagonal = np.eye(4)\n",
        "print(diagonal)"
      ],
      "metadata": {
        "colab": {
          "base_uri": "https://localhost:8080/"
        },
        "id": "tiLdeEsN18tN",
        "outputId": "917a73f9-6a9e-49b2-c55a-95eac1c31983"
      },
      "execution_count": 5,
      "outputs": [
        {
          "output_type": "stream",
          "name": "stdout",
          "text": [
            "[[1. 0. 0. 0.]\n",
            " [0. 1. 0. 0.]\n",
            " [0. 0. 1. 0.]\n",
            " [0. 0. 0. 1.]]\n"
          ]
        }
      ]
    },
    {
      "cell_type": "code",
      "source": [
        "#Criação de valores aleatórios entre 0 e 1:\n",
        "random = np.random.random((7))\n",
        "print(random)"
      ],
      "metadata": {
        "colab": {
          "base_uri": "https://localhost:8080/"
        },
        "id": "kKZYrwKZ2YR8",
        "outputId": "57ddcad1-f40b-4659-f0fc-53201a6029da"
      },
      "execution_count": 6,
      "outputs": [
        {
          "output_type": "stream",
          "name": "stdout",
          "text": [
            "[0.84767192 0.70728413 0.54519941 0.07190679 0.59019661 0.84154013\n",
            " 0.01098968]\n"
          ]
        }
      ]
    }
  ]
}