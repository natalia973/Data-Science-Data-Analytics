{
  "nbformat": 4,
  "nbformat_minor": 0,
  "metadata": {
    "colab": {
      "provenance": [],
      "authorship_tag": "ABX9TyPHnfLm+Xi4ebi9/hUb6xkQ",
      "include_colab_link": true
    },
    "kernelspec": {
      "name": "ir",
      "display_name": "R"
    },
    "language_info": {
      "name": "R"
    }
  },
  "cells": [
    {
      "cell_type": "markdown",
      "metadata": {
        "id": "view-in-github",
        "colab_type": "text"
      },
      "source": [
        "<a href=\"https://colab.research.google.com/github/natalia973/Data-Science-Data-Analytics/blob/main/ProjetoLimpezaR.ipynb\" target=\"_parent\"><img src=\"https://colab.research.google.com/assets/colab-badge.svg\" alt=\"Open In Colab\"/></a>"
      ]
    },
    {
      "cell_type": "code",
      "execution_count": 1,
      "metadata": {
        "colab": {
          "base_uri": "https://localhost:8080/"
        },
        "id": "pENuP94l_yNS",
        "outputId": "8b55a72e-49f1-45ba-811e-6fb17b6c8613"
      },
      "outputs": [
        {
          "output_type": "stream",
          "name": "stderr",
          "text": [
            "Installing package into ‘/usr/local/lib/R/site-library’\n",
            "(as ‘lib’ is unspecified)\n",
            "\n"
          ]
        }
      ],
      "source": [
        "install.packages(\"rmarkdown\")\n"
      ]
    },
    {
      "cell_type": "code",
      "source": [
        "dados=read.csv(\"/content/tempo.csv\" , sep = \";\" , na.strings = \"\" , stringsAsFactors = T , fileEncoding =\"UTF-8\")\n",
        "#na.strings = \"\" significa que quando encontrar um campo vazio ele será tratado como não disponível\n",
        "head(dados)\n",
        "colnames(dados)\n",
        "print(dados)\n",
        "Clima = unique(dados$Aparencia)"
      ],
      "metadata": {
        "colab": {
          "base_uri": "https://localhost:8080/",
          "height": 564
        },
        "id": "7c-_rxGjAQmy",
        "outputId": "1a4646c3-6e5a-4de4-bbc0-33aa6d0d88a2"
      },
      "execution_count": 2,
      "outputs": [
        {
          "output_type": "display_data",
          "data": {
            "text/html": [
              "<table class=\"dataframe\">\n",
              "<caption>A data.frame: 6 × 5</caption>\n",
              "<thead>\n",
              "\t<tr><th></th><th scope=col>Aparencia</th><th scope=col>Temperatura</th><th scope=col>Umidade</th><th scope=col>Vento</th><th scope=col>Jogar</th></tr>\n",
              "\t<tr><th></th><th scope=col>&lt;fct&gt;</th><th scope=col>&lt;int&gt;</th><th scope=col>&lt;int&gt;</th><th scope=col>&lt;fct&gt;</th><th scope=col>&lt;fct&gt;</th></tr>\n",
              "</thead>\n",
              "<tbody>\n",
              "\t<tr><th scope=row>1</th><td>sol    </td><td>85</td><td>85</td><td>FALSO     </td><td>nao</td></tr>\n",
              "\t<tr><th scope=row>2</th><td>sol    </td><td>80</td><td>90</td><td>VERDADEIRO</td><td>nao</td></tr>\n",
              "\t<tr><th scope=row>3</th><td>nublado</td><td>83</td><td>86</td><td>FALSO     </td><td>sim</td></tr>\n",
              "\t<tr><th scope=row>4</th><td>chuva  </td><td>70</td><td>NA</td><td>FALSO     </td><td>sim</td></tr>\n",
              "\t<tr><th scope=row>5</th><td>chuva  </td><td>68</td><td>80</td><td>FALSO     </td><td>sim</td></tr>\n",
              "\t<tr><th scope=row>6</th><td>chuva  </td><td>65</td><td>70</td><td>VERDADEIRO</td><td>nao</td></tr>\n",
              "</tbody>\n",
              "</table>\n"
            ],
            "text/markdown": "\nA data.frame: 6 × 5\n\n| <!--/--> | Aparencia &lt;fct&gt; | Temperatura &lt;int&gt; | Umidade &lt;int&gt; | Vento &lt;fct&gt; | Jogar &lt;fct&gt; |\n|---|---|---|---|---|---|\n| 1 | sol     | 85 | 85 | FALSO      | nao |\n| 2 | sol     | 80 | 90 | VERDADEIRO | nao |\n| 3 | nublado | 83 | 86 | FALSO      | sim |\n| 4 | chuva   | 70 | NA | FALSO      | sim |\n| 5 | chuva   | 68 | 80 | FALSO      | sim |\n| 6 | chuva   | 65 | 70 | VERDADEIRO | nao |\n\n",
            "text/latex": "A data.frame: 6 × 5\n\\begin{tabular}{r|lllll}\n  & Aparencia & Temperatura & Umidade & Vento & Jogar\\\\\n  & <fct> & <int> & <int> & <fct> & <fct>\\\\\n\\hline\n\t1 & sol     & 85 & 85 & FALSO      & nao\\\\\n\t2 & sol     & 80 & 90 & VERDADEIRO & nao\\\\\n\t3 & nublado & 83 & 86 & FALSO      & sim\\\\\n\t4 & chuva   & 70 & NA & FALSO      & sim\\\\\n\t5 & chuva   & 68 & 80 & FALSO      & sim\\\\\n\t6 & chuva   & 65 & 70 & VERDADEIRO & nao\\\\\n\\end{tabular}\n",
            "text/plain": [
              "  Aparencia Temperatura Umidade Vento      Jogar\n",
              "1 sol       85          85      FALSO      nao  \n",
              "2 sol       80          90      VERDADEIRO nao  \n",
              "3 nublado   83          86      FALSO      sim  \n",
              "4 chuva     70          NA      FALSO      sim  \n",
              "5 chuva     68          80      FALSO      sim  \n",
              "6 chuva     65          70      VERDADEIRO nao  "
            ]
          },
          "metadata": {}
        },
        {
          "output_type": "display_data",
          "data": {
            "text/html": [
              "<style>\n",
              ".list-inline {list-style: none; margin:0; padding: 0}\n",
              ".list-inline>li {display: inline-block}\n",
              ".list-inline>li:not(:last-child)::after {content: \"\\00b7\"; padding: 0 .5ex}\n",
              "</style>\n",
              "<ol class=list-inline><li>'Aparencia'</li><li>'Temperatura'</li><li>'Umidade'</li><li>'Vento'</li><li>'Jogar'</li></ol>\n"
            ],
            "text/markdown": "1. 'Aparencia'\n2. 'Temperatura'\n3. 'Umidade'\n4. 'Vento'\n5. 'Jogar'\n\n\n",
            "text/latex": "\\begin{enumerate*}\n\\item 'Aparencia'\n\\item 'Temperatura'\n\\item 'Umidade'\n\\item 'Vento'\n\\item 'Jogar'\n\\end{enumerate*}\n",
            "text/plain": [
              "[1] \"Aparencia\"   \"Temperatura\" \"Umidade\"     \"Vento\"       \"Jogar\"      "
            ]
          },
          "metadata": {}
        },
        {
          "output_type": "stream",
          "name": "stdout",
          "text": [
            "   Aparencia Temperatura Umidade      Vento Jogar\n",
            "1        sol          85      85      FALSO   nao\n",
            "2        sol          80      90 VERDADEIRO   nao\n",
            "3    nublado          83      86      FALSO   sim\n",
            "4      chuva          70      NA      FALSO   sim\n",
            "5      chuva          68      80      FALSO   sim\n",
            "6      chuva          65      70 VERDADEIRO   nao\n",
            "7      menos          64      65 VERDADEIRO   sim\n",
            "8        sol        1220      95      FALSO   nao\n",
            "9        sol          69      70      FALSO   sim\n",
            "10     chuva          75     200       <NA>   sim\n",
            "11       sol          75      70 VERDADEIRO   sim\n",
            "12   nublado          72      90 VERDADEIRO   sim\n",
            "13   nublado          81      75      FALSO   sim\n",
            "14     chuva          71      91 VERDADEIRO   nao\n"
          ]
        }
      ]
    },
    {
      "cell_type": "code",
      "source": [
        "#Aqui, filtra a Umidade de 0 a 100:\n",
        "x = dados[dados$Umidade >0 & dados$Umidade <= 100, ]\n",
        "print(x)"
      ],
      "metadata": {
        "colab": {
          "base_uri": "https://localhost:8080/"
        },
        "id": "C8rXEuRKAuHn",
        "outputId": "e0e7d6a1-5a3a-4791-e190-648a1e6cfde8"
      },
      "execution_count": 3,
      "outputs": [
        {
          "output_type": "stream",
          "name": "stdout",
          "text": [
            "   Aparencia Temperatura Umidade      Vento Jogar\n",
            "1        sol          85      85      FALSO   nao\n",
            "2        sol          80      90 VERDADEIRO   nao\n",
            "3    nublado          83      86      FALSO   sim\n",
            "NA      <NA>          NA      NA       <NA>  <NA>\n",
            "5      chuva          68      80      FALSO   sim\n",
            "6      chuva          65      70 VERDADEIRO   nao\n",
            "7      menos          64      65 VERDADEIRO   sim\n",
            "8        sol        1220      95      FALSO   nao\n",
            "9        sol          69      70      FALSO   sim\n",
            "11       sol          75      70 VERDADEIRO   sim\n",
            "12   nublado          72      90 VERDADEIRO   sim\n",
            "13   nublado          81      75      FALSO   sim\n",
            "14     chuva          71      91 VERDADEIRO   nao\n"
          ]
        }
      ]
    },
    {
      "cell_type": "code",
      "source": [
        "#Filtro no Clima, deve ser Sol, Nublado ou Chuva\n",
        "AparenciaRemover = c(\"menos\")\n",
        "AparenciaFiltrada = Clima[!(Clima %in% AparenciaRemover)]\n",
        "print(AparenciaFiltrada)"
      ],
      "metadata": {
        "colab": {
          "base_uri": "https://localhost:8080/"
        },
        "id": "uCDYyH4bA86t",
        "outputId": "fca83e68-aa5c-4c9d-e224-a126910f04b1"
      },
      "execution_count": 4,
      "outputs": [
        {
          "output_type": "stream",
          "name": "stdout",
          "text": [
            "[1] sol     nublado chuva  \n",
            "Levels: chuva menos nublado sol\n"
          ]
        }
      ]
    },
    {
      "cell_type": "code",
      "source": [
        "#Filtro na temperatura:\n",
        "Y = dados[dados$Temperatura > -130 & dados$Temperatura <= 130 , ]\n",
        "print(Y)"
      ],
      "metadata": {
        "colab": {
          "base_uri": "https://localhost:8080/"
        },
        "id": "kKpm6EfdBBlj",
        "outputId": "cfc61862-6800-4c89-9d5b-2691b5db5a4b"
      },
      "execution_count": 5,
      "outputs": [
        {
          "output_type": "stream",
          "name": "stdout",
          "text": [
            "   Aparencia Temperatura Umidade      Vento Jogar\n",
            "1        sol          85      85      FALSO   nao\n",
            "2        sol          80      90 VERDADEIRO   nao\n",
            "3    nublado          83      86      FALSO   sim\n",
            "4      chuva          70      NA      FALSO   sim\n",
            "5      chuva          68      80      FALSO   sim\n",
            "6      chuva          65      70 VERDADEIRO   nao\n",
            "7      menos          64      65 VERDADEIRO   sim\n",
            "9        sol          69      70      FALSO   sim\n",
            "10     chuva          75     200       <NA>   sim\n",
            "11       sol          75      70 VERDADEIRO   sim\n",
            "12   nublado          72      90 VERDADEIRO   sim\n",
            "13   nublado          81      75      FALSO   sim\n",
            "14     chuva          71      91 VERDADEIRO   nao\n"
          ]
        }
      ]
    },
    {
      "cell_type": "code",
      "source": [
        "#Quantidade de \"não\" e \"sim\" presente na coluna jogar\n",
        "x = unique(dados$Jogar)\n",
        "print(x)\n",
        "qtd=table(dados$Jogar)\n",
        "print(qtd)"
      ],
      "metadata": {
        "colab": {
          "base_uri": "https://localhost:8080/"
        },
        "id": "G8gHULJlBLfD",
        "outputId": "f1e4379c-df52-4a2c-8e2b-9b05f4871a7e"
      },
      "execution_count": 6,
      "outputs": [
        {
          "output_type": "stream",
          "name": "stdout",
          "text": [
            "[1] nao sim\n",
            "Levels: nao sim\n",
            "\n",
            "nao sim \n",
            "  5   9 \n"
          ]
        }
      ]
    }
  ]
}