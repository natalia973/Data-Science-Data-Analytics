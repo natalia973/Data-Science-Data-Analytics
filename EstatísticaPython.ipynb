{
  "nbformat": 4,
  "nbformat_minor": 0,
  "metadata": {
    "colab": {
      "provenance": [],
      "authorship_tag": "ABX9TyO9E6NwIyJVGa+0oMvdgdNM",
      "include_colab_link": true
    },
    "kernelspec": {
      "name": "python3",
      "display_name": "Python 3"
    },
    "language_info": {
      "name": "python"
    }
  },
  "cells": [
    {
      "cell_type": "markdown",
      "metadata": {
        "id": "view-in-github",
        "colab_type": "text"
      },
      "source": [
        "<a href=\"https://colab.research.google.com/github/natalia973/Data-Science-Data-Analytics/blob/main/Estat%C3%ADsticaPython.ipynb\" target=\"_parent\"><img src=\"https://colab.research.google.com/assets/colab-badge.svg\" alt=\"Open In Colab\"/></a>"
      ]
    },
    {
      "cell_type": "code",
      "execution_count": 57,
      "metadata": {
        "id": "mzHKetFValt0"
      },
      "outputs": [],
      "source": [
        "#********************************** PRÁTICA **************************************************************************\n",
        "#AMOSTRAGEM SIMPLES.\n",
        "#Cada indivíduo tem probabilidade igual e independente de ser escolhido\n",
        "#É usado um gerador de números aleatórios .\n",
        "import pandas as pd\n",
        "import numpy as np\n",
        "from math import ceil\n",
        "from sklearn.model_selection import train_test_split\n",
        "from scipy import stats\n",
        "from scipy.stats import norm, skewnorm\n",
        "import matplotlib.pyplot as plt\n"
      ]
    },
    {
      "cell_type": "code",
      "source": [
        "df = pd.read_csv('/content/iris.csv')\n",
        "df.shape\n",
        "#A base possui 150 linhas e 5 colunas."
      ],
      "metadata": {
        "colab": {
          "base_uri": "https://localhost:8080/"
        },
        "id": "PDtIOwUSa5Y6",
        "outputId": "21c13761-8ca0-4f42-9478-60fa0d98e753"
      },
      "execution_count": 38,
      "outputs": [
        {
          "output_type": "execute_result",
          "data": {
            "text/plain": [
              "(150, 5)"
            ]
          },
          "metadata": {},
          "execution_count": 38
        }
      ]
    },
    {
      "cell_type": "code",
      "source": [
        "np.random.seed(2345)  #Garante resultados aleatórios.\n",
        "#a - determina que os numeros gerados somente sejam 0 e 1, size - tamanho total da amostra , replace - sorteio com reposição\n",
        "# p -define a prob de cada um 70% do 0 ,  30% do 1.\n",
        "amostra = np.random.choice(a = [0,1] , size = 150 , replace = True, p=[0.7 , 0.3])\n",
        "len(amostra)  #Total de elementos da amostra:"
      ],
      "metadata": {
        "colab": {
          "base_uri": "https://localhost:8080/"
        },
        "id": "d3vlN5rMglMU",
        "outputId": "ad5ba0f6-efab-4dd1-fe97-a6c419eed04e"
      },
      "execution_count": 39,
      "outputs": [
        {
          "output_type": "execute_result",
          "data": {
            "text/plain": [
              "150"
            ]
          },
          "metadata": {},
          "execution_count": 39
        }
      ]
    },
    {
      "cell_type": "code",
      "source": [
        "#Total de elementos iguais a 1:\n",
        "len(amostra[amostra == 1])"
      ],
      "metadata": {
        "colab": {
          "base_uri": "https://localhost:8080/"
        },
        "id": "C1OE6J9_hGAs",
        "outputId": "6a8ee78d-cf5d-4088-ef24-f7d1b833da07"
      },
      "execution_count": 9,
      "outputs": [
        {
          "output_type": "execute_result",
          "data": {
            "text/plain": [
              "49"
            ]
          },
          "metadata": {},
          "execution_count": 9
        }
      ]
    },
    {
      "cell_type": "code",
      "source": [
        "#Total de elementos iguais a 0:\n",
        "len(amostra[amostra == 0])"
      ],
      "metadata": {
        "colab": {
          "base_uri": "https://localhost:8080/"
        },
        "id": "7fIMUQ9HhcZf",
        "outputId": "8243c983-beea-49d2-b90c-2f7e15499127"
      },
      "execution_count": 10,
      "outputs": [
        {
          "output_type": "execute_result",
          "data": {
            "text/plain": [
              "101"
            ]
          },
          "metadata": {},
          "execution_count": 10
        }
      ]
    },
    {
      "cell_type": "code",
      "source": [
        "#Já que são 101 zeros, isso foi atribuído à base final.Criação de uma sub-base\n",
        "baseFinal = df.loc[amostra == 0]\n",
        "baseFinal.shape"
      ],
      "metadata": {
        "colab": {
          "base_uri": "https://localhost:8080/"
        },
        "id": "w-PiQ6Hljf5Q",
        "outputId": "d2f5b809-79f1-4322-fbde-5d20d89637f0"
      },
      "execution_count": 11,
      "outputs": [
        {
          "output_type": "execute_result",
          "data": {
            "text/plain": [
              "(101, 5)"
            ]
          },
          "metadata": {},
          "execution_count": 11
        }
      ]
    },
    {
      "cell_type": "code",
      "source": [
        "#AMOSTRAGEM SISTEMÁTICA:\n",
        "#O COJUNTO PRECISA ESTAR ORDENADO.\n",
        "#INTERVALO(K) = POPULAÇÃO / AMOSTRA.\n",
        "populacao = 150\n",
        "amostra = 15\n",
        "k = ceil(populacao / amostra)\n",
        "print(k)"
      ],
      "metadata": {
        "colab": {
          "base_uri": "https://localhost:8080/"
        },
        "id": "NA0Hgn5RmFpm",
        "outputId": "8eebcb8b-d507-456a-96e0-95fed49b9e91"
      },
      "execution_count": 17,
      "outputs": [
        {
          "output_type": "stream",
          "name": "stdout",
          "text": [
            "10\n"
          ]
        }
      ]
    },
    {
      "cell_type": "code",
      "source": [
        "#Definição de um valor randômico para inicializar a amostra,de 1 até k + 1:\n",
        "r = np.random.randint(low = 1 , high = k + 1, size = 1)\n",
        "print(r)"
      ],
      "metadata": {
        "colab": {
          "base_uri": "https://localhost:8080/"
        },
        "id": "V2lNtHqbouMN",
        "outputId": "2299682d-c211-40fe-d0d1-dfe07565d374"
      },
      "execution_count": 21,
      "outputs": [
        {
          "output_type": "stream",
          "name": "stdout",
          "text": [
            "[2]\n"
          ]
        }
      ]
    },
    {
      "cell_type": "code",
      "source": [
        "for i in range (amostra):\n",
        " sorteados.append(acumulador)\n",
        " acumulador = acumulador + k\n",
        "print(sorteados)\n",
        "\n"
      ],
      "metadata": {
        "colab": {
          "base_uri": "https://localhost:8080/"
        },
        "id": "T8uoZAUQtvHu",
        "outputId": "8d407134-c0a4-4395-d80a-0c499ce46e6c"
      },
      "execution_count": 27,
      "outputs": [
        {
          "output_type": "stream",
          "name": "stdout",
          "text": [
            "[np.int64(2), np.int64(12), np.int64(22), np.int64(32), np.int64(42), np.int64(52), np.int64(62), np.int64(72), np.int64(82), np.int64(92), np.int64(102), np.int64(112), np.int64(122), np.int64(132), np.int64(142), np.int64(152), np.int64(162), np.int64(172), np.int64(182), np.int64(192), np.int64(202), np.int64(212), np.int64(222), np.int64(232), np.int64(242), np.int64(252), np.int64(262), np.int64(272), np.int64(282), np.int64(292)]\n"
          ]
        }
      ]
    },
    {
      "cell_type": "code",
      "source": [
        "len(sorteados) #15 amostras sorteadas - Intervalos"
      ],
      "metadata": {
        "colab": {
          "base_uri": "https://localhost:8080/"
        },
        "id": "jEGRV7VcvxN9",
        "outputId": "9a500a56-914c-4726-fe0d-f67518c6f56c"
      },
      "execution_count": 25,
      "outputs": [
        {
          "output_type": "execute_result",
          "data": {
            "text/plain": [
              "15"
            ]
          },
          "metadata": {},
          "execution_count": 25
        }
      ]
    },
    {
      "cell_type": "code",
      "source": [
        "base = pd.read_csv('/content/iris.csv')\n",
        "base_final = base.loc[sorteados]\n",
        "base_final"
      ],
      "metadata": {
        "colab": {
          "base_uri": "https://localhost:8080/",
          "height": 520
        },
        "id": "fWsy6joUwHX-",
        "outputId": "e9a526be-92cf-4fe5-e242-c1e21d9e338e"
      },
      "execution_count": 26,
      "outputs": [
        {
          "output_type": "execute_result",
          "data": {
            "text/plain": [
              "     sepal length  sepal width  petal length  petal width            class\n",
              "2             4.7          3.2           1.3          0.2      Iris-setosa\n",
              "12            4.8          3.0           1.4          0.1      Iris-setosa\n",
              "22            4.6          3.6           1.0          0.2      Iris-setosa\n",
              "32            5.2          4.1           1.5          0.1      Iris-setosa\n",
              "42            4.4          3.2           1.3          0.2      Iris-setosa\n",
              "52            6.9          3.1           4.9          1.5  Iris-versicolor\n",
              "62            6.0          2.2           4.0          1.0  Iris-versicolor\n",
              "72            6.3          2.5           4.9          1.5  Iris-versicolor\n",
              "82            5.8          2.7           3.9          1.2  Iris-versicolor\n",
              "92            5.8          2.6           4.0          1.2  Iris-versicolor\n",
              "102           7.1          3.0           5.9          2.1   Iris-virginica\n",
              "112           6.8          3.0           5.5          2.1   Iris-virginica\n",
              "122           7.7          2.8           6.7          2.0   Iris-virginica\n",
              "132           6.4          2.8           5.6          2.2   Iris-virginica\n",
              "142           5.8          2.7           5.1          1.9   Iris-virginica"
            ],
            "text/html": [
              "\n",
              "  <div id=\"df-09d6732f-c5b9-45ab-a241-7fb9434e3064\" class=\"colab-df-container\">\n",
              "    <div>\n",
              "<style scoped>\n",
              "    .dataframe tbody tr th:only-of-type {\n",
              "        vertical-align: middle;\n",
              "    }\n",
              "\n",
              "    .dataframe tbody tr th {\n",
              "        vertical-align: top;\n",
              "    }\n",
              "\n",
              "    .dataframe thead th {\n",
              "        text-align: right;\n",
              "    }\n",
              "</style>\n",
              "<table border=\"1\" class=\"dataframe\">\n",
              "  <thead>\n",
              "    <tr style=\"text-align: right;\">\n",
              "      <th></th>\n",
              "      <th>sepal length</th>\n",
              "      <th>sepal width</th>\n",
              "      <th>petal length</th>\n",
              "      <th>petal width</th>\n",
              "      <th>class</th>\n",
              "    </tr>\n",
              "  </thead>\n",
              "  <tbody>\n",
              "    <tr>\n",
              "      <th>2</th>\n",
              "      <td>4.7</td>\n",
              "      <td>3.2</td>\n",
              "      <td>1.3</td>\n",
              "      <td>0.2</td>\n",
              "      <td>Iris-setosa</td>\n",
              "    </tr>\n",
              "    <tr>\n",
              "      <th>12</th>\n",
              "      <td>4.8</td>\n",
              "      <td>3.0</td>\n",
              "      <td>1.4</td>\n",
              "      <td>0.1</td>\n",
              "      <td>Iris-setosa</td>\n",
              "    </tr>\n",
              "    <tr>\n",
              "      <th>22</th>\n",
              "      <td>4.6</td>\n",
              "      <td>3.6</td>\n",
              "      <td>1.0</td>\n",
              "      <td>0.2</td>\n",
              "      <td>Iris-setosa</td>\n",
              "    </tr>\n",
              "    <tr>\n",
              "      <th>32</th>\n",
              "      <td>5.2</td>\n",
              "      <td>4.1</td>\n",
              "      <td>1.5</td>\n",
              "      <td>0.1</td>\n",
              "      <td>Iris-setosa</td>\n",
              "    </tr>\n",
              "    <tr>\n",
              "      <th>42</th>\n",
              "      <td>4.4</td>\n",
              "      <td>3.2</td>\n",
              "      <td>1.3</td>\n",
              "      <td>0.2</td>\n",
              "      <td>Iris-setosa</td>\n",
              "    </tr>\n",
              "    <tr>\n",
              "      <th>52</th>\n",
              "      <td>6.9</td>\n",
              "      <td>3.1</td>\n",
              "      <td>4.9</td>\n",
              "      <td>1.5</td>\n",
              "      <td>Iris-versicolor</td>\n",
              "    </tr>\n",
              "    <tr>\n",
              "      <th>62</th>\n",
              "      <td>6.0</td>\n",
              "      <td>2.2</td>\n",
              "      <td>4.0</td>\n",
              "      <td>1.0</td>\n",
              "      <td>Iris-versicolor</td>\n",
              "    </tr>\n",
              "    <tr>\n",
              "      <th>72</th>\n",
              "      <td>6.3</td>\n",
              "      <td>2.5</td>\n",
              "      <td>4.9</td>\n",
              "      <td>1.5</td>\n",
              "      <td>Iris-versicolor</td>\n",
              "    </tr>\n",
              "    <tr>\n",
              "      <th>82</th>\n",
              "      <td>5.8</td>\n",
              "      <td>2.7</td>\n",
              "      <td>3.9</td>\n",
              "      <td>1.2</td>\n",
              "      <td>Iris-versicolor</td>\n",
              "    </tr>\n",
              "    <tr>\n",
              "      <th>92</th>\n",
              "      <td>5.8</td>\n",
              "      <td>2.6</td>\n",
              "      <td>4.0</td>\n",
              "      <td>1.2</td>\n",
              "      <td>Iris-versicolor</td>\n",
              "    </tr>\n",
              "    <tr>\n",
              "      <th>102</th>\n",
              "      <td>7.1</td>\n",
              "      <td>3.0</td>\n",
              "      <td>5.9</td>\n",
              "      <td>2.1</td>\n",
              "      <td>Iris-virginica</td>\n",
              "    </tr>\n",
              "    <tr>\n",
              "      <th>112</th>\n",
              "      <td>6.8</td>\n",
              "      <td>3.0</td>\n",
              "      <td>5.5</td>\n",
              "      <td>2.1</td>\n",
              "      <td>Iris-virginica</td>\n",
              "    </tr>\n",
              "    <tr>\n",
              "      <th>122</th>\n",
              "      <td>7.7</td>\n",
              "      <td>2.8</td>\n",
              "      <td>6.7</td>\n",
              "      <td>2.0</td>\n",
              "      <td>Iris-virginica</td>\n",
              "    </tr>\n",
              "    <tr>\n",
              "      <th>132</th>\n",
              "      <td>6.4</td>\n",
              "      <td>2.8</td>\n",
              "      <td>5.6</td>\n",
              "      <td>2.2</td>\n",
              "      <td>Iris-virginica</td>\n",
              "    </tr>\n",
              "    <tr>\n",
              "      <th>142</th>\n",
              "      <td>5.8</td>\n",
              "      <td>2.7</td>\n",
              "      <td>5.1</td>\n",
              "      <td>1.9</td>\n",
              "      <td>Iris-virginica</td>\n",
              "    </tr>\n",
              "  </tbody>\n",
              "</table>\n",
              "</div>\n",
              "    <div class=\"colab-df-buttons\">\n",
              "\n",
              "  <div class=\"colab-df-container\">\n",
              "    <button class=\"colab-df-convert\" onclick=\"convertToInteractive('df-09d6732f-c5b9-45ab-a241-7fb9434e3064')\"\n",
              "            title=\"Convert this dataframe to an interactive table.\"\n",
              "            style=\"display:none;\">\n",
              "\n",
              "  <svg xmlns=\"http://www.w3.org/2000/svg\" height=\"24px\" viewBox=\"0 -960 960 960\">\n",
              "    <path d=\"M120-120v-720h720v720H120Zm60-500h600v-160H180v160Zm220 220h160v-160H400v160Zm0 220h160v-160H400v160ZM180-400h160v-160H180v160Zm440 0h160v-160H620v160ZM180-180h160v-160H180v160Zm440 0h160v-160H620v160Z\"/>\n",
              "  </svg>\n",
              "    </button>\n",
              "\n",
              "  <style>\n",
              "    .colab-df-container {\n",
              "      display:flex;\n",
              "      gap: 12px;\n",
              "    }\n",
              "\n",
              "    .colab-df-convert {\n",
              "      background-color: #E8F0FE;\n",
              "      border: none;\n",
              "      border-radius: 50%;\n",
              "      cursor: pointer;\n",
              "      display: none;\n",
              "      fill: #1967D2;\n",
              "      height: 32px;\n",
              "      padding: 0 0 0 0;\n",
              "      width: 32px;\n",
              "    }\n",
              "\n",
              "    .colab-df-convert:hover {\n",
              "      background-color: #E2EBFA;\n",
              "      box-shadow: 0px 1px 2px rgba(60, 64, 67, 0.3), 0px 1px 3px 1px rgba(60, 64, 67, 0.15);\n",
              "      fill: #174EA6;\n",
              "    }\n",
              "\n",
              "    .colab-df-buttons div {\n",
              "      margin-bottom: 4px;\n",
              "    }\n",
              "\n",
              "    [theme=dark] .colab-df-convert {\n",
              "      background-color: #3B4455;\n",
              "      fill: #D2E3FC;\n",
              "    }\n",
              "\n",
              "    [theme=dark] .colab-df-convert:hover {\n",
              "      background-color: #434B5C;\n",
              "      box-shadow: 0px 1px 3px 1px rgba(0, 0, 0, 0.15);\n",
              "      filter: drop-shadow(0px 1px 2px rgba(0, 0, 0, 0.3));\n",
              "      fill: #FFFFFF;\n",
              "    }\n",
              "  </style>\n",
              "\n",
              "    <script>\n",
              "      const buttonEl =\n",
              "        document.querySelector('#df-09d6732f-c5b9-45ab-a241-7fb9434e3064 button.colab-df-convert');\n",
              "      buttonEl.style.display =\n",
              "        google.colab.kernel.accessAllowed ? 'block' : 'none';\n",
              "\n",
              "      async function convertToInteractive(key) {\n",
              "        const element = document.querySelector('#df-09d6732f-c5b9-45ab-a241-7fb9434e3064');\n",
              "        const dataTable =\n",
              "          await google.colab.kernel.invokeFunction('convertToInteractive',\n",
              "                                                    [key], {});\n",
              "        if (!dataTable) return;\n",
              "\n",
              "        const docLinkHtml = 'Like what you see? Visit the ' +\n",
              "          '<a target=\"_blank\" href=https://colab.research.google.com/notebooks/data_table.ipynb>data table notebook</a>'\n",
              "          + ' to learn more about interactive tables.';\n",
              "        element.innerHTML = '';\n",
              "        dataTable['output_type'] = 'display_data';\n",
              "        await google.colab.output.renderOutput(dataTable, element);\n",
              "        const docLink = document.createElement('div');\n",
              "        docLink.innerHTML = docLinkHtml;\n",
              "        element.appendChild(docLink);\n",
              "      }\n",
              "    </script>\n",
              "  </div>\n",
              "\n",
              "\n",
              "    <div id=\"df-7a7720d4-4f0a-4e06-be2a-0f8926f71d97\">\n",
              "      <button class=\"colab-df-quickchart\" onclick=\"quickchart('df-7a7720d4-4f0a-4e06-be2a-0f8926f71d97')\"\n",
              "                title=\"Suggest charts\"\n",
              "                style=\"display:none;\">\n",
              "\n",
              "<svg xmlns=\"http://www.w3.org/2000/svg\" height=\"24px\"viewBox=\"0 0 24 24\"\n",
              "     width=\"24px\">\n",
              "    <g>\n",
              "        <path d=\"M19 3H5c-1.1 0-2 .9-2 2v14c0 1.1.9 2 2 2h14c1.1 0 2-.9 2-2V5c0-1.1-.9-2-2-2zM9 17H7v-7h2v7zm4 0h-2V7h2v10zm4 0h-2v-4h2v4z\"/>\n",
              "    </g>\n",
              "</svg>\n",
              "      </button>\n",
              "\n",
              "<style>\n",
              "  .colab-df-quickchart {\n",
              "      --bg-color: #E8F0FE;\n",
              "      --fill-color: #1967D2;\n",
              "      --hover-bg-color: #E2EBFA;\n",
              "      --hover-fill-color: #174EA6;\n",
              "      --disabled-fill-color: #AAA;\n",
              "      --disabled-bg-color: #DDD;\n",
              "  }\n",
              "\n",
              "  [theme=dark] .colab-df-quickchart {\n",
              "      --bg-color: #3B4455;\n",
              "      --fill-color: #D2E3FC;\n",
              "      --hover-bg-color: #434B5C;\n",
              "      --hover-fill-color: #FFFFFF;\n",
              "      --disabled-bg-color: #3B4455;\n",
              "      --disabled-fill-color: #666;\n",
              "  }\n",
              "\n",
              "  .colab-df-quickchart {\n",
              "    background-color: var(--bg-color);\n",
              "    border: none;\n",
              "    border-radius: 50%;\n",
              "    cursor: pointer;\n",
              "    display: none;\n",
              "    fill: var(--fill-color);\n",
              "    height: 32px;\n",
              "    padding: 0;\n",
              "    width: 32px;\n",
              "  }\n",
              "\n",
              "  .colab-df-quickchart:hover {\n",
              "    background-color: var(--hover-bg-color);\n",
              "    box-shadow: 0 1px 2px rgba(60, 64, 67, 0.3), 0 1px 3px 1px rgba(60, 64, 67, 0.15);\n",
              "    fill: var(--button-hover-fill-color);\n",
              "  }\n",
              "\n",
              "  .colab-df-quickchart-complete:disabled,\n",
              "  .colab-df-quickchart-complete:disabled:hover {\n",
              "    background-color: var(--disabled-bg-color);\n",
              "    fill: var(--disabled-fill-color);\n",
              "    box-shadow: none;\n",
              "  }\n",
              "\n",
              "  .colab-df-spinner {\n",
              "    border: 2px solid var(--fill-color);\n",
              "    border-color: transparent;\n",
              "    border-bottom-color: var(--fill-color);\n",
              "    animation:\n",
              "      spin 1s steps(1) infinite;\n",
              "  }\n",
              "\n",
              "  @keyframes spin {\n",
              "    0% {\n",
              "      border-color: transparent;\n",
              "      border-bottom-color: var(--fill-color);\n",
              "      border-left-color: var(--fill-color);\n",
              "    }\n",
              "    20% {\n",
              "      border-color: transparent;\n",
              "      border-left-color: var(--fill-color);\n",
              "      border-top-color: var(--fill-color);\n",
              "    }\n",
              "    30% {\n",
              "      border-color: transparent;\n",
              "      border-left-color: var(--fill-color);\n",
              "      border-top-color: var(--fill-color);\n",
              "      border-right-color: var(--fill-color);\n",
              "    }\n",
              "    40% {\n",
              "      border-color: transparent;\n",
              "      border-right-color: var(--fill-color);\n",
              "      border-top-color: var(--fill-color);\n",
              "    }\n",
              "    60% {\n",
              "      border-color: transparent;\n",
              "      border-right-color: var(--fill-color);\n",
              "    }\n",
              "    80% {\n",
              "      border-color: transparent;\n",
              "      border-right-color: var(--fill-color);\n",
              "      border-bottom-color: var(--fill-color);\n",
              "    }\n",
              "    90% {\n",
              "      border-color: transparent;\n",
              "      border-bottom-color: var(--fill-color);\n",
              "    }\n",
              "  }\n",
              "</style>\n",
              "\n",
              "      <script>\n",
              "        async function quickchart(key) {\n",
              "          const quickchartButtonEl =\n",
              "            document.querySelector('#' + key + ' button');\n",
              "          quickchartButtonEl.disabled = true;  // To prevent multiple clicks.\n",
              "          quickchartButtonEl.classList.add('colab-df-spinner');\n",
              "          try {\n",
              "            const charts = await google.colab.kernel.invokeFunction(\n",
              "                'suggestCharts', [key], {});\n",
              "          } catch (error) {\n",
              "            console.error('Error during call to suggestCharts:', error);\n",
              "          }\n",
              "          quickchartButtonEl.classList.remove('colab-df-spinner');\n",
              "          quickchartButtonEl.classList.add('colab-df-quickchart-complete');\n",
              "        }\n",
              "        (() => {\n",
              "          let quickchartButtonEl =\n",
              "            document.querySelector('#df-7a7720d4-4f0a-4e06-be2a-0f8926f71d97 button');\n",
              "          quickchartButtonEl.style.display =\n",
              "            google.colab.kernel.accessAllowed ? 'block' : 'none';\n",
              "        })();\n",
              "      </script>\n",
              "    </div>\n",
              "\n",
              "  <div id=\"id_deecb568-930e-4fae-89b6-575716ca6101\">\n",
              "    <style>\n",
              "      .colab-df-generate {\n",
              "        background-color: #E8F0FE;\n",
              "        border: none;\n",
              "        border-radius: 50%;\n",
              "        cursor: pointer;\n",
              "        display: none;\n",
              "        fill: #1967D2;\n",
              "        height: 32px;\n",
              "        padding: 0 0 0 0;\n",
              "        width: 32px;\n",
              "      }\n",
              "\n",
              "      .colab-df-generate:hover {\n",
              "        background-color: #E2EBFA;\n",
              "        box-shadow: 0px 1px 2px rgba(60, 64, 67, 0.3), 0px 1px 3px 1px rgba(60, 64, 67, 0.15);\n",
              "        fill: #174EA6;\n",
              "      }\n",
              "\n",
              "      [theme=dark] .colab-df-generate {\n",
              "        background-color: #3B4455;\n",
              "        fill: #D2E3FC;\n",
              "      }\n",
              "\n",
              "      [theme=dark] .colab-df-generate:hover {\n",
              "        background-color: #434B5C;\n",
              "        box-shadow: 0px 1px 3px 1px rgba(0, 0, 0, 0.15);\n",
              "        filter: drop-shadow(0px 1px 2px rgba(0, 0, 0, 0.3));\n",
              "        fill: #FFFFFF;\n",
              "      }\n",
              "    </style>\n",
              "    <button class=\"colab-df-generate\" onclick=\"generateWithVariable('base_final')\"\n",
              "            title=\"Generate code using this dataframe.\"\n",
              "            style=\"display:none;\">\n",
              "\n",
              "  <svg xmlns=\"http://www.w3.org/2000/svg\" height=\"24px\"viewBox=\"0 0 24 24\"\n",
              "       width=\"24px\">\n",
              "    <path d=\"M7,19H8.4L18.45,9,17,7.55,7,17.6ZM5,21V16.75L18.45,3.32a2,2,0,0,1,2.83,0l1.4,1.43a1.91,1.91,0,0,1,.58,1.4,1.91,1.91,0,0,1-.58,1.4L9.25,21ZM18.45,9,17,7.55Zm-12,3A5.31,5.31,0,0,0,4.9,8.1,5.31,5.31,0,0,0,1,6.5,5.31,5.31,0,0,0,4.9,4.9,5.31,5.31,0,0,0,6.5,1,5.31,5.31,0,0,0,8.1,4.9,5.31,5.31,0,0,0,12,6.5,5.46,5.46,0,0,0,6.5,12Z\"/>\n",
              "  </svg>\n",
              "    </button>\n",
              "    <script>\n",
              "      (() => {\n",
              "      const buttonEl =\n",
              "        document.querySelector('#id_deecb568-930e-4fae-89b6-575716ca6101 button.colab-df-generate');\n",
              "      buttonEl.style.display =\n",
              "        google.colab.kernel.accessAllowed ? 'block' : 'none';\n",
              "\n",
              "      buttonEl.onclick = () => {\n",
              "        google.colab.notebook.generateWithVariable('base_final');\n",
              "      }\n",
              "      })();\n",
              "    </script>\n",
              "  </div>\n",
              "\n",
              "    </div>\n",
              "  </div>\n"
            ],
            "application/vnd.google.colaboratory.intrinsic+json": {
              "type": "dataframe",
              "variable_name": "base_final",
              "summary": "{\n  \"name\": \"base_final\",\n  \"rows\": 15,\n  \"fields\": [\n    {\n      \"column\": \"sepal length\",\n      \"properties\": {\n        \"dtype\": \"number\",\n        \"std\": 1.0006188561275942,\n        \"min\": 4.4,\n        \"max\": 7.7,\n        \"num_unique_values\": 13,\n        \"samples\": [\n          7.7,\n          7.1,\n          4.7\n        ],\n        \"semantic_type\": \"\",\n        \"description\": \"\"\n      }\n    },\n    {\n      \"column\": \"sepal width\",\n      \"properties\": {\n        \"dtype\": \"number\",\n        \"std\": 0.45929552681512253,\n        \"min\": 2.2,\n        \"max\": 4.1,\n        \"num_unique_values\": 10,\n        \"samples\": [\n          2.6,\n          3.0,\n          2.2\n        ],\n        \"semantic_type\": \"\",\n        \"description\": \"\"\n      }\n    },\n    {\n      \"column\": \"petal length\",\n      \"properties\": {\n        \"dtype\": \"number\",\n        \"std\": 1.9737563896576207,\n        \"min\": 1.0,\n        \"max\": 6.7,\n        \"num_unique_values\": 12,\n        \"samples\": [\n          5.6,\n          6.7,\n          1.3\n        ],\n        \"semantic_type\": \"\",\n        \"description\": \"\"\n      }\n    },\n    {\n      \"column\": \"petal width\",\n      \"properties\": {\n        \"dtype\": \"number\",\n        \"std\": 0.8182443458550811,\n        \"min\": 0.1,\n        \"max\": 2.2,\n        \"num_unique_values\": 9,\n        \"samples\": [\n          2.2,\n          0.1,\n          2.1\n        ],\n        \"semantic_type\": \"\",\n        \"description\": \"\"\n      }\n    },\n    {\n      \"column\": \"class\",\n      \"properties\": {\n        \"dtype\": \"category\",\n        \"num_unique_values\": 3,\n        \"samples\": [\n          \"Iris-setosa\",\n          \"Iris-versicolor\",\n          \"Iris-virginica\"\n        ],\n        \"semantic_type\": \"\",\n        \"description\": \"\"\n      }\n    }\n  ]\n}"
            }
          },
          "metadata": {},
          "execution_count": 26
        }
      ]
    },
    {
      "cell_type": "code",
      "source": [
        " #AMOSTRAGEM ESTRATIFICADA:\n",
        "\n",
        " #Divide uma população-alvo em subgrupos homogêneos (estratos), como idade ou género, e, em seguida, seleciona amostras aleatórias de cada um desses\n",
        " #estratos para garantir que cada\n",
        " #subgrupo seja representado de forma proporcional\n",
        " iris = pd.read_csv('/content/iris.csv')\n",
        " iris['class'].value_counts()\n"
      ],
      "metadata": {
        "colab": {
          "base_uri": "https://localhost:8080/",
          "height": 210
        },
        "id": "JayjrVUkwxs2",
        "outputId": "6094a54a-4a95-4d09-b466-45c97b511dba"
      },
      "execution_count": 31,
      "outputs": [
        {
          "output_type": "execute_result",
          "data": {
            "text/plain": [
              "class\n",
              "Iris-setosa        50\n",
              "Iris-versicolor    50\n",
              "Iris-virginica     50\n",
              "Name: count, dtype: int64"
            ],
            "text/html": [
              "<div>\n",
              "<style scoped>\n",
              "    .dataframe tbody tr th:only-of-type {\n",
              "        vertical-align: middle;\n",
              "    }\n",
              "\n",
              "    .dataframe tbody tr th {\n",
              "        vertical-align: top;\n",
              "    }\n",
              "\n",
              "    .dataframe thead th {\n",
              "        text-align: right;\n",
              "    }\n",
              "</style>\n",
              "<table border=\"1\" class=\"dataframe\">\n",
              "  <thead>\n",
              "    <tr style=\"text-align: right;\">\n",
              "      <th></th>\n",
              "      <th>count</th>\n",
              "    </tr>\n",
              "    <tr>\n",
              "      <th>class</th>\n",
              "      <th></th>\n",
              "    </tr>\n",
              "  </thead>\n",
              "  <tbody>\n",
              "    <tr>\n",
              "      <th>Iris-setosa</th>\n",
              "      <td>50</td>\n",
              "    </tr>\n",
              "    <tr>\n",
              "      <th>Iris-versicolor</th>\n",
              "      <td>50</td>\n",
              "    </tr>\n",
              "    <tr>\n",
              "      <th>Iris-virginica</th>\n",
              "      <td>50</td>\n",
              "    </tr>\n",
              "  </tbody>\n",
              "</table>\n",
              "</div><br><label><b>dtype:</b> int64</label>"
            ]
          },
          "metadata": {},
          "execution_count": 31
        }
      ]
    },
    {
      "cell_type": "code",
      "source": [
        "x, _,y,_= train_test_split(iris.iloc[: , 0:4] , iris.iloc[: , 4] , test_size = 0.5, stratify = iris.iloc[: , 4])\n",
        "y.value_counts()\n",
        "#Dividiu em subgrupos de 25 cada."
      ],
      "metadata": {
        "colab": {
          "base_uri": "https://localhost:8080/",
          "height": 210
        },
        "id": "GZzWaR6B3yhT",
        "outputId": "f1a7f1be-5abb-44ea-fba1-7482320e9db8"
      },
      "execution_count": 34,
      "outputs": [
        {
          "output_type": "execute_result",
          "data": {
            "text/plain": [
              "class\n",
              "Iris-setosa        25\n",
              "Iris-versicolor    25\n",
              "Iris-virginica     25\n",
              "Name: count, dtype: int64"
            ],
            "text/html": [
              "<div>\n",
              "<style scoped>\n",
              "    .dataframe tbody tr th:only-of-type {\n",
              "        vertical-align: middle;\n",
              "    }\n",
              "\n",
              "    .dataframe tbody tr th {\n",
              "        vertical-align: top;\n",
              "    }\n",
              "\n",
              "    .dataframe thead th {\n",
              "        text-align: right;\n",
              "    }\n",
              "</style>\n",
              "<table border=\"1\" class=\"dataframe\">\n",
              "  <thead>\n",
              "    <tr style=\"text-align: right;\">\n",
              "      <th></th>\n",
              "      <th>count</th>\n",
              "    </tr>\n",
              "    <tr>\n",
              "      <th>class</th>\n",
              "      <th></th>\n",
              "    </tr>\n",
              "  </thead>\n",
              "  <tbody>\n",
              "    <tr>\n",
              "      <th>Iris-setosa</th>\n",
              "      <td>25</td>\n",
              "    </tr>\n",
              "    <tr>\n",
              "      <th>Iris-versicolor</th>\n",
              "      <td>25</td>\n",
              "    </tr>\n",
              "    <tr>\n",
              "      <th>Iris-virginica</th>\n",
              "      <td>25</td>\n",
              "    </tr>\n",
              "  </tbody>\n",
              "</table>\n",
              "</div><br><label><b>dtype:</b> int64</label>"
            ]
          },
          "metadata": {},
          "execution_count": 34
        }
      ]
    },
    {
      "cell_type": "code",
      "source": [
        "#Próxima  base de dados a ser estratificada:\n",
        "infert= pd.read_csv('/content/infert.csv')\n",
        "infert"
      ],
      "metadata": {
        "colab": {
          "base_uri": "https://localhost:8080/",
          "height": 424
        },
        "id": "adF5RhNJ77oR",
        "outputId": "b54eb2c2-814e-41d5-d236-5d35bf6a692c"
      },
      "execution_count": 40,
      "outputs": [
        {
          "output_type": "execute_result",
          "data": {
            "text/plain": [
              "     Unnamed: 0 education  age  parity  induced  case  spontaneous  stratum  \\\n",
              "0             1    0-5yrs   26       6        1     1            2        1   \n",
              "1             2    0-5yrs   42       1        1     1            0        2   \n",
              "2             3    0-5yrs   39       6        2     1            0        3   \n",
              "3             4    0-5yrs   34       4        2     1            0        4   \n",
              "4             5   6-11yrs   35       3        1     1            1        5   \n",
              "..          ...       ...  ...     ...      ...   ...          ...      ...   \n",
              "243         244   12+ yrs   31       1        0     0            1       79   \n",
              "244         245   12+ yrs   34       1        0     0            0       80   \n",
              "245         246   12+ yrs   35       2        2     0            0       81   \n",
              "246         247   12+ yrs   29       1        0     0            1       82   \n",
              "247         248   12+ yrs   23       1        0     0            1       83   \n",
              "\n",
              "     pooled.stratum  \n",
              "0                 3  \n",
              "1                 1  \n",
              "2                 4  \n",
              "3                 2  \n",
              "4                32  \n",
              "..              ...  \n",
              "243              45  \n",
              "244              47  \n",
              "245              54  \n",
              "246              43  \n",
              "247              40  \n",
              "\n",
              "[248 rows x 9 columns]"
            ],
            "text/html": [
              "\n",
              "  <div id=\"df-4da158d0-dd66-406c-a588-4fd67c6d8350\" class=\"colab-df-container\">\n",
              "    <div>\n",
              "<style scoped>\n",
              "    .dataframe tbody tr th:only-of-type {\n",
              "        vertical-align: middle;\n",
              "    }\n",
              "\n",
              "    .dataframe tbody tr th {\n",
              "        vertical-align: top;\n",
              "    }\n",
              "\n",
              "    .dataframe thead th {\n",
              "        text-align: right;\n",
              "    }\n",
              "</style>\n",
              "<table border=\"1\" class=\"dataframe\">\n",
              "  <thead>\n",
              "    <tr style=\"text-align: right;\">\n",
              "      <th></th>\n",
              "      <th>Unnamed: 0</th>\n",
              "      <th>education</th>\n",
              "      <th>age</th>\n",
              "      <th>parity</th>\n",
              "      <th>induced</th>\n",
              "      <th>case</th>\n",
              "      <th>spontaneous</th>\n",
              "      <th>stratum</th>\n",
              "      <th>pooled.stratum</th>\n",
              "    </tr>\n",
              "  </thead>\n",
              "  <tbody>\n",
              "    <tr>\n",
              "      <th>0</th>\n",
              "      <td>1</td>\n",
              "      <td>0-5yrs</td>\n",
              "      <td>26</td>\n",
              "      <td>6</td>\n",
              "      <td>1</td>\n",
              "      <td>1</td>\n",
              "      <td>2</td>\n",
              "      <td>1</td>\n",
              "      <td>3</td>\n",
              "    </tr>\n",
              "    <tr>\n",
              "      <th>1</th>\n",
              "      <td>2</td>\n",
              "      <td>0-5yrs</td>\n",
              "      <td>42</td>\n",
              "      <td>1</td>\n",
              "      <td>1</td>\n",
              "      <td>1</td>\n",
              "      <td>0</td>\n",
              "      <td>2</td>\n",
              "      <td>1</td>\n",
              "    </tr>\n",
              "    <tr>\n",
              "      <th>2</th>\n",
              "      <td>3</td>\n",
              "      <td>0-5yrs</td>\n",
              "      <td>39</td>\n",
              "      <td>6</td>\n",
              "      <td>2</td>\n",
              "      <td>1</td>\n",
              "      <td>0</td>\n",
              "      <td>3</td>\n",
              "      <td>4</td>\n",
              "    </tr>\n",
              "    <tr>\n",
              "      <th>3</th>\n",
              "      <td>4</td>\n",
              "      <td>0-5yrs</td>\n",
              "      <td>34</td>\n",
              "      <td>4</td>\n",
              "      <td>2</td>\n",
              "      <td>1</td>\n",
              "      <td>0</td>\n",
              "      <td>4</td>\n",
              "      <td>2</td>\n",
              "    </tr>\n",
              "    <tr>\n",
              "      <th>4</th>\n",
              "      <td>5</td>\n",
              "      <td>6-11yrs</td>\n",
              "      <td>35</td>\n",
              "      <td>3</td>\n",
              "      <td>1</td>\n",
              "      <td>1</td>\n",
              "      <td>1</td>\n",
              "      <td>5</td>\n",
              "      <td>32</td>\n",
              "    </tr>\n",
              "    <tr>\n",
              "      <th>...</th>\n",
              "      <td>...</td>\n",
              "      <td>...</td>\n",
              "      <td>...</td>\n",
              "      <td>...</td>\n",
              "      <td>...</td>\n",
              "      <td>...</td>\n",
              "      <td>...</td>\n",
              "      <td>...</td>\n",
              "      <td>...</td>\n",
              "    </tr>\n",
              "    <tr>\n",
              "      <th>243</th>\n",
              "      <td>244</td>\n",
              "      <td>12+ yrs</td>\n",
              "      <td>31</td>\n",
              "      <td>1</td>\n",
              "      <td>0</td>\n",
              "      <td>0</td>\n",
              "      <td>1</td>\n",
              "      <td>79</td>\n",
              "      <td>45</td>\n",
              "    </tr>\n",
              "    <tr>\n",
              "      <th>244</th>\n",
              "      <td>245</td>\n",
              "      <td>12+ yrs</td>\n",
              "      <td>34</td>\n",
              "      <td>1</td>\n",
              "      <td>0</td>\n",
              "      <td>0</td>\n",
              "      <td>0</td>\n",
              "      <td>80</td>\n",
              "      <td>47</td>\n",
              "    </tr>\n",
              "    <tr>\n",
              "      <th>245</th>\n",
              "      <td>246</td>\n",
              "      <td>12+ yrs</td>\n",
              "      <td>35</td>\n",
              "      <td>2</td>\n",
              "      <td>2</td>\n",
              "      <td>0</td>\n",
              "      <td>0</td>\n",
              "      <td>81</td>\n",
              "      <td>54</td>\n",
              "    </tr>\n",
              "    <tr>\n",
              "      <th>246</th>\n",
              "      <td>247</td>\n",
              "      <td>12+ yrs</td>\n",
              "      <td>29</td>\n",
              "      <td>1</td>\n",
              "      <td>0</td>\n",
              "      <td>0</td>\n",
              "      <td>1</td>\n",
              "      <td>82</td>\n",
              "      <td>43</td>\n",
              "    </tr>\n",
              "    <tr>\n",
              "      <th>247</th>\n",
              "      <td>248</td>\n",
              "      <td>12+ yrs</td>\n",
              "      <td>23</td>\n",
              "      <td>1</td>\n",
              "      <td>0</td>\n",
              "      <td>0</td>\n",
              "      <td>1</td>\n",
              "      <td>83</td>\n",
              "      <td>40</td>\n",
              "    </tr>\n",
              "  </tbody>\n",
              "</table>\n",
              "<p>248 rows × 9 columns</p>\n",
              "</div>\n",
              "    <div class=\"colab-df-buttons\">\n",
              "\n",
              "  <div class=\"colab-df-container\">\n",
              "    <button class=\"colab-df-convert\" onclick=\"convertToInteractive('df-4da158d0-dd66-406c-a588-4fd67c6d8350')\"\n",
              "            title=\"Convert this dataframe to an interactive table.\"\n",
              "            style=\"display:none;\">\n",
              "\n",
              "  <svg xmlns=\"http://www.w3.org/2000/svg\" height=\"24px\" viewBox=\"0 -960 960 960\">\n",
              "    <path d=\"M120-120v-720h720v720H120Zm60-500h600v-160H180v160Zm220 220h160v-160H400v160Zm0 220h160v-160H400v160ZM180-400h160v-160H180v160Zm440 0h160v-160H620v160ZM180-180h160v-160H180v160Zm440 0h160v-160H620v160Z\"/>\n",
              "  </svg>\n",
              "    </button>\n",
              "\n",
              "  <style>\n",
              "    .colab-df-container {\n",
              "      display:flex;\n",
              "      gap: 12px;\n",
              "    }\n",
              "\n",
              "    .colab-df-convert {\n",
              "      background-color: #E8F0FE;\n",
              "      border: none;\n",
              "      border-radius: 50%;\n",
              "      cursor: pointer;\n",
              "      display: none;\n",
              "      fill: #1967D2;\n",
              "      height: 32px;\n",
              "      padding: 0 0 0 0;\n",
              "      width: 32px;\n",
              "    }\n",
              "\n",
              "    .colab-df-convert:hover {\n",
              "      background-color: #E2EBFA;\n",
              "      box-shadow: 0px 1px 2px rgba(60, 64, 67, 0.3), 0px 1px 3px 1px rgba(60, 64, 67, 0.15);\n",
              "      fill: #174EA6;\n",
              "    }\n",
              "\n",
              "    .colab-df-buttons div {\n",
              "      margin-bottom: 4px;\n",
              "    }\n",
              "\n",
              "    [theme=dark] .colab-df-convert {\n",
              "      background-color: #3B4455;\n",
              "      fill: #D2E3FC;\n",
              "    }\n",
              "\n",
              "    [theme=dark] .colab-df-convert:hover {\n",
              "      background-color: #434B5C;\n",
              "      box-shadow: 0px 1px 3px 1px rgba(0, 0, 0, 0.15);\n",
              "      filter: drop-shadow(0px 1px 2px rgba(0, 0, 0, 0.3));\n",
              "      fill: #FFFFFF;\n",
              "    }\n",
              "  </style>\n",
              "\n",
              "    <script>\n",
              "      const buttonEl =\n",
              "        document.querySelector('#df-4da158d0-dd66-406c-a588-4fd67c6d8350 button.colab-df-convert');\n",
              "      buttonEl.style.display =\n",
              "        google.colab.kernel.accessAllowed ? 'block' : 'none';\n",
              "\n",
              "      async function convertToInteractive(key) {\n",
              "        const element = document.querySelector('#df-4da158d0-dd66-406c-a588-4fd67c6d8350');\n",
              "        const dataTable =\n",
              "          await google.colab.kernel.invokeFunction('convertToInteractive',\n",
              "                                                    [key], {});\n",
              "        if (!dataTable) return;\n",
              "\n",
              "        const docLinkHtml = 'Like what you see? Visit the ' +\n",
              "          '<a target=\"_blank\" href=https://colab.research.google.com/notebooks/data_table.ipynb>data table notebook</a>'\n",
              "          + ' to learn more about interactive tables.';\n",
              "        element.innerHTML = '';\n",
              "        dataTable['output_type'] = 'display_data';\n",
              "        await google.colab.output.renderOutput(dataTable, element);\n",
              "        const docLink = document.createElement('div');\n",
              "        docLink.innerHTML = docLinkHtml;\n",
              "        element.appendChild(docLink);\n",
              "      }\n",
              "    </script>\n",
              "  </div>\n",
              "\n",
              "\n",
              "    <div id=\"df-00c87bba-990a-4089-b757-f82759228201\">\n",
              "      <button class=\"colab-df-quickchart\" onclick=\"quickchart('df-00c87bba-990a-4089-b757-f82759228201')\"\n",
              "                title=\"Suggest charts\"\n",
              "                style=\"display:none;\">\n",
              "\n",
              "<svg xmlns=\"http://www.w3.org/2000/svg\" height=\"24px\"viewBox=\"0 0 24 24\"\n",
              "     width=\"24px\">\n",
              "    <g>\n",
              "        <path d=\"M19 3H5c-1.1 0-2 .9-2 2v14c0 1.1.9 2 2 2h14c1.1 0 2-.9 2-2V5c0-1.1-.9-2-2-2zM9 17H7v-7h2v7zm4 0h-2V7h2v10zm4 0h-2v-4h2v4z\"/>\n",
              "    </g>\n",
              "</svg>\n",
              "      </button>\n",
              "\n",
              "<style>\n",
              "  .colab-df-quickchart {\n",
              "      --bg-color: #E8F0FE;\n",
              "      --fill-color: #1967D2;\n",
              "      --hover-bg-color: #E2EBFA;\n",
              "      --hover-fill-color: #174EA6;\n",
              "      --disabled-fill-color: #AAA;\n",
              "      --disabled-bg-color: #DDD;\n",
              "  }\n",
              "\n",
              "  [theme=dark] .colab-df-quickchart {\n",
              "      --bg-color: #3B4455;\n",
              "      --fill-color: #D2E3FC;\n",
              "      --hover-bg-color: #434B5C;\n",
              "      --hover-fill-color: #FFFFFF;\n",
              "      --disabled-bg-color: #3B4455;\n",
              "      --disabled-fill-color: #666;\n",
              "  }\n",
              "\n",
              "  .colab-df-quickchart {\n",
              "    background-color: var(--bg-color);\n",
              "    border: none;\n",
              "    border-radius: 50%;\n",
              "    cursor: pointer;\n",
              "    display: none;\n",
              "    fill: var(--fill-color);\n",
              "    height: 32px;\n",
              "    padding: 0;\n",
              "    width: 32px;\n",
              "  }\n",
              "\n",
              "  .colab-df-quickchart:hover {\n",
              "    background-color: var(--hover-bg-color);\n",
              "    box-shadow: 0 1px 2px rgba(60, 64, 67, 0.3), 0 1px 3px 1px rgba(60, 64, 67, 0.15);\n",
              "    fill: var(--button-hover-fill-color);\n",
              "  }\n",
              "\n",
              "  .colab-df-quickchart-complete:disabled,\n",
              "  .colab-df-quickchart-complete:disabled:hover {\n",
              "    background-color: var(--disabled-bg-color);\n",
              "    fill: var(--disabled-fill-color);\n",
              "    box-shadow: none;\n",
              "  }\n",
              "\n",
              "  .colab-df-spinner {\n",
              "    border: 2px solid var(--fill-color);\n",
              "    border-color: transparent;\n",
              "    border-bottom-color: var(--fill-color);\n",
              "    animation:\n",
              "      spin 1s steps(1) infinite;\n",
              "  }\n",
              "\n",
              "  @keyframes spin {\n",
              "    0% {\n",
              "      border-color: transparent;\n",
              "      border-bottom-color: var(--fill-color);\n",
              "      border-left-color: var(--fill-color);\n",
              "    }\n",
              "    20% {\n",
              "      border-color: transparent;\n",
              "      border-left-color: var(--fill-color);\n",
              "      border-top-color: var(--fill-color);\n",
              "    }\n",
              "    30% {\n",
              "      border-color: transparent;\n",
              "      border-left-color: var(--fill-color);\n",
              "      border-top-color: var(--fill-color);\n",
              "      border-right-color: var(--fill-color);\n",
              "    }\n",
              "    40% {\n",
              "      border-color: transparent;\n",
              "      border-right-color: var(--fill-color);\n",
              "      border-top-color: var(--fill-color);\n",
              "    }\n",
              "    60% {\n",
              "      border-color: transparent;\n",
              "      border-right-color: var(--fill-color);\n",
              "    }\n",
              "    80% {\n",
              "      border-color: transparent;\n",
              "      border-right-color: var(--fill-color);\n",
              "      border-bottom-color: var(--fill-color);\n",
              "    }\n",
              "    90% {\n",
              "      border-color: transparent;\n",
              "      border-bottom-color: var(--fill-color);\n",
              "    }\n",
              "  }\n",
              "</style>\n",
              "\n",
              "      <script>\n",
              "        async function quickchart(key) {\n",
              "          const quickchartButtonEl =\n",
              "            document.querySelector('#' + key + ' button');\n",
              "          quickchartButtonEl.disabled = true;  // To prevent multiple clicks.\n",
              "          quickchartButtonEl.classList.add('colab-df-spinner');\n",
              "          try {\n",
              "            const charts = await google.colab.kernel.invokeFunction(\n",
              "                'suggestCharts', [key], {});\n",
              "          } catch (error) {\n",
              "            console.error('Error during call to suggestCharts:', error);\n",
              "          }\n",
              "          quickchartButtonEl.classList.remove('colab-df-spinner');\n",
              "          quickchartButtonEl.classList.add('colab-df-quickchart-complete');\n",
              "        }\n",
              "        (() => {\n",
              "          let quickchartButtonEl =\n",
              "            document.querySelector('#df-00c87bba-990a-4089-b757-f82759228201 button');\n",
              "          quickchartButtonEl.style.display =\n",
              "            google.colab.kernel.accessAllowed ? 'block' : 'none';\n",
              "        })();\n",
              "      </script>\n",
              "    </div>\n",
              "\n",
              "  <div id=\"id_154e8d5f-2bbb-4b20-b7ee-54f0ae647bbc\">\n",
              "    <style>\n",
              "      .colab-df-generate {\n",
              "        background-color: #E8F0FE;\n",
              "        border: none;\n",
              "        border-radius: 50%;\n",
              "        cursor: pointer;\n",
              "        display: none;\n",
              "        fill: #1967D2;\n",
              "        height: 32px;\n",
              "        padding: 0 0 0 0;\n",
              "        width: 32px;\n",
              "      }\n",
              "\n",
              "      .colab-df-generate:hover {\n",
              "        background-color: #E2EBFA;\n",
              "        box-shadow: 0px 1px 2px rgba(60, 64, 67, 0.3), 0px 1px 3px 1px rgba(60, 64, 67, 0.15);\n",
              "        fill: #174EA6;\n",
              "      }\n",
              "\n",
              "      [theme=dark] .colab-df-generate {\n",
              "        background-color: #3B4455;\n",
              "        fill: #D2E3FC;\n",
              "      }\n",
              "\n",
              "      [theme=dark] .colab-df-generate:hover {\n",
              "        background-color: #434B5C;\n",
              "        box-shadow: 0px 1px 3px 1px rgba(0, 0, 0, 0.15);\n",
              "        filter: drop-shadow(0px 1px 2px rgba(0, 0, 0, 0.3));\n",
              "        fill: #FFFFFF;\n",
              "      }\n",
              "    </style>\n",
              "    <button class=\"colab-df-generate\" onclick=\"generateWithVariable('infert')\"\n",
              "            title=\"Generate code using this dataframe.\"\n",
              "            style=\"display:none;\">\n",
              "\n",
              "  <svg xmlns=\"http://www.w3.org/2000/svg\" height=\"24px\"viewBox=\"0 0 24 24\"\n",
              "       width=\"24px\">\n",
              "    <path d=\"M7,19H8.4L18.45,9,17,7.55,7,17.6ZM5,21V16.75L18.45,3.32a2,2,0,0,1,2.83,0l1.4,1.43a1.91,1.91,0,0,1,.58,1.4,1.91,1.91,0,0,1-.58,1.4L9.25,21ZM18.45,9,17,7.55Zm-12,3A5.31,5.31,0,0,0,4.9,8.1,5.31,5.31,0,0,0,1,6.5,5.31,5.31,0,0,0,4.9,4.9,5.31,5.31,0,0,0,6.5,1,5.31,5.31,0,0,0,8.1,4.9,5.31,5.31,0,0,0,12,6.5,5.46,5.46,0,0,0,6.5,12Z\"/>\n",
              "  </svg>\n",
              "    </button>\n",
              "    <script>\n",
              "      (() => {\n",
              "      const buttonEl =\n",
              "        document.querySelector('#id_154e8d5f-2bbb-4b20-b7ee-54f0ae647bbc button.colab-df-generate');\n",
              "      buttonEl.style.display =\n",
              "        google.colab.kernel.accessAllowed ? 'block' : 'none';\n",
              "\n",
              "      buttonEl.onclick = () => {\n",
              "        google.colab.notebook.generateWithVariable('infert');\n",
              "      }\n",
              "      })();\n",
              "    </script>\n",
              "  </div>\n",
              "\n",
              "    </div>\n",
              "  </div>\n"
            ],
            "application/vnd.google.colaboratory.intrinsic+json": {
              "type": "dataframe",
              "variable_name": "infert",
              "summary": "{\n  \"name\": \"infert\",\n  \"rows\": 248,\n  \"fields\": [\n    {\n      \"column\": \"Unnamed: 0\",\n      \"properties\": {\n        \"dtype\": \"number\",\n        \"std\": 71,\n        \"min\": 1,\n        \"max\": 248,\n        \"num_unique_values\": 248,\n        \"samples\": [\n          34,\n          7,\n          183\n        ],\n        \"semantic_type\": \"\",\n        \"description\": \"\"\n      }\n    },\n    {\n      \"column\": \"education\",\n      \"properties\": {\n        \"dtype\": \"category\",\n        \"num_unique_values\": 3,\n        \"samples\": [\n          \"0-5yrs\",\n          \"6-11yrs\",\n          \"12+ yrs\"\n        ],\n        \"semantic_type\": \"\",\n        \"description\": \"\"\n      }\n    },\n    {\n      \"column\": \"age\",\n      \"properties\": {\n        \"dtype\": \"number\",\n        \"std\": 5,\n        \"min\": 21,\n        \"max\": 44,\n        \"num_unique_values\": 21,\n        \"samples\": [\n          26,\n          40,\n          25\n        ],\n        \"semantic_type\": \"\",\n        \"description\": \"\"\n      }\n    },\n    {\n      \"column\": \"parity\",\n      \"properties\": {\n        \"dtype\": \"number\",\n        \"std\": 1,\n        \"min\": 1,\n        \"max\": 6,\n        \"num_unique_values\": 6,\n        \"samples\": [\n          6,\n          1,\n          5\n        ],\n        \"semantic_type\": \"\",\n        \"description\": \"\"\n      }\n    },\n    {\n      \"column\": \"induced\",\n      \"properties\": {\n        \"dtype\": \"number\",\n        \"std\": 0,\n        \"min\": 0,\n        \"max\": 2,\n        \"num_unique_values\": 3,\n        \"samples\": [\n          1,\n          2,\n          0\n        ],\n        \"semantic_type\": \"\",\n        \"description\": \"\"\n      }\n    },\n    {\n      \"column\": \"case\",\n      \"properties\": {\n        \"dtype\": \"number\",\n        \"std\": 0,\n        \"min\": 0,\n        \"max\": 1,\n        \"num_unique_values\": 2,\n        \"samples\": [\n          0,\n          1\n        ],\n        \"semantic_type\": \"\",\n        \"description\": \"\"\n      }\n    },\n    {\n      \"column\": \"spontaneous\",\n      \"properties\": {\n        \"dtype\": \"number\",\n        \"std\": 0,\n        \"min\": 0,\n        \"max\": 2,\n        \"num_unique_values\": 3,\n        \"samples\": [\n          2,\n          0\n        ],\n        \"semantic_type\": \"\",\n        \"description\": \"\"\n      }\n    },\n    {\n      \"column\": \"stratum\",\n      \"properties\": {\n        \"dtype\": \"number\",\n        \"std\": 23,\n        \"min\": 1,\n        \"max\": 83,\n        \"num_unique_values\": 83,\n        \"samples\": [\n          31,\n          1\n        ],\n        \"semantic_type\": \"\",\n        \"description\": \"\"\n      }\n    },\n    {\n      \"column\": \"pooled.stratum\",\n      \"properties\": {\n        \"dtype\": \"number\",\n        \"std\": 17,\n        \"min\": 1,\n        \"max\": 63,\n        \"num_unique_values\": 63,\n        \"samples\": [\n          43,\n          58\n        ],\n        \"semantic_type\": \"\",\n        \"description\": \"\"\n      }\n    }\n  ]\n}"
            }
          },
          "metadata": {},
          "execution_count": 40
        }
      ]
    },
    {
      "cell_type": "code",
      "source": [
        "infert['education'].value_counts()\n",
        "#Agrupar os dados da coluna education"
      ],
      "metadata": {
        "colab": {
          "base_uri": "https://localhost:8080/",
          "height": 210
        },
        "id": "IWIoik148l32",
        "outputId": "df4b8d18-351f-453e-8901-3f7156d7ffc0"
      },
      "execution_count": 41,
      "outputs": [
        {
          "output_type": "execute_result",
          "data": {
            "text/plain": [
              "education\n",
              "6-11yrs    120\n",
              "12+ yrs    116\n",
              "0-5yrs      12\n",
              "Name: count, dtype: int64"
            ],
            "text/html": [
              "<div>\n",
              "<style scoped>\n",
              "    .dataframe tbody tr th:only-of-type {\n",
              "        vertical-align: middle;\n",
              "    }\n",
              "\n",
              "    .dataframe tbody tr th {\n",
              "        vertical-align: top;\n",
              "    }\n",
              "\n",
              "    .dataframe thead th {\n",
              "        text-align: right;\n",
              "    }\n",
              "</style>\n",
              "<table border=\"1\" class=\"dataframe\">\n",
              "  <thead>\n",
              "    <tr style=\"text-align: right;\">\n",
              "      <th></th>\n",
              "      <th>count</th>\n",
              "    </tr>\n",
              "    <tr>\n",
              "      <th>education</th>\n",
              "      <th></th>\n",
              "    </tr>\n",
              "  </thead>\n",
              "  <tbody>\n",
              "    <tr>\n",
              "      <th>6-11yrs</th>\n",
              "      <td>120</td>\n",
              "    </tr>\n",
              "    <tr>\n",
              "      <th>12+ yrs</th>\n",
              "      <td>116</td>\n",
              "    </tr>\n",
              "    <tr>\n",
              "      <th>0-5yrs</th>\n",
              "      <td>12</td>\n",
              "    </tr>\n",
              "  </tbody>\n",
              "</table>\n",
              "</div><br><label><b>dtype:</b> int64</label>"
            ]
          },
          "metadata": {},
          "execution_count": 41
        }
      ]
    },
    {
      "cell_type": "code",
      "source": [
        "x1,_,y1,_ = train_test_split(infert.iloc[: , 2:9] , infert.iloc[: , 1] , test_size = 0.6 , stratify = infert.iloc[: , 1])\n",
        "y1.value_counts()\n",
        "#SÓ SERÁ GERADO 40% DOS REGISTROS."
      ],
      "metadata": {
        "colab": {
          "base_uri": "https://localhost:8080/",
          "height": 210
        },
        "id": "yJ6kGVrk89sY",
        "outputId": "4104fafb-2862-47a8-a055-f5a9fbb0a6a2"
      },
      "execution_count": 42,
      "outputs": [
        {
          "output_type": "execute_result",
          "data": {
            "text/plain": [
              "education\n",
              "6-11yrs    48\n",
              "12+ yrs    46\n",
              "0-5yrs      5\n",
              "Name: count, dtype: int64"
            ],
            "text/html": [
              "<div>\n",
              "<style scoped>\n",
              "    .dataframe tbody tr th:only-of-type {\n",
              "        vertical-align: middle;\n",
              "    }\n",
              "\n",
              "    .dataframe tbody tr th {\n",
              "        vertical-align: top;\n",
              "    }\n",
              "\n",
              "    .dataframe thead th {\n",
              "        text-align: right;\n",
              "    }\n",
              "</style>\n",
              "<table border=\"1\" class=\"dataframe\">\n",
              "  <thead>\n",
              "    <tr style=\"text-align: right;\">\n",
              "      <th></th>\n",
              "      <th>count</th>\n",
              "    </tr>\n",
              "    <tr>\n",
              "      <th>education</th>\n",
              "      <th></th>\n",
              "    </tr>\n",
              "  </thead>\n",
              "  <tbody>\n",
              "    <tr>\n",
              "      <th>6-11yrs</th>\n",
              "      <td>48</td>\n",
              "    </tr>\n",
              "    <tr>\n",
              "      <th>12+ yrs</th>\n",
              "      <td>46</td>\n",
              "    </tr>\n",
              "    <tr>\n",
              "      <th>0-5yrs</th>\n",
              "      <td>5</td>\n",
              "    </tr>\n",
              "  </tbody>\n",
              "</table>\n",
              "</div><br><label><b>dtype:</b> int64</label>"
            ]
          },
          "metadata": {},
          "execution_count": 42
        }
      ]
    },
    {
      "cell_type": "code",
      "source": [
        "#MEDIDAS DE CENTRALIDADE E VARIABILIDADE:\n",
        "\n",
        "jogadores = [4000, 18000 , 12000, 250000, 30000, 140000, 300000, 40000, 800000]\n",
        "np.mean(jogadores) #MÉDIA DOS JOGADORES:\n"
      ],
      "metadata": {
        "colab": {
          "base_uri": "https://localhost:8080/"
        },
        "id": "vY7iiBuuAJx_",
        "outputId": "5803bed2-4c4b-40bc-e643-51eebdc85e58"
      },
      "execution_count": 45,
      "outputs": [
        {
          "output_type": "execute_result",
          "data": {
            "text/plain": [
              "np.float64(177111.11111111112)"
            ]
          },
          "metadata": {},
          "execution_count": 45
        }
      ]
    },
    {
      "cell_type": "code",
      "source": [
        "np.median(jogadores)\n",
        "#MEDIANA DOS JOGADORES:"
      ],
      "metadata": {
        "colab": {
          "base_uri": "https://localhost:8080/"
        },
        "id": "bkq02YfiBGE4",
        "outputId": "d7630157-3ae0-4dcf-dee0-0c60027c0ab2"
      },
      "execution_count": 46,
      "outputs": [
        {
          "output_type": "execute_result",
          "data": {
            "text/plain": [
              "np.float64(40000.0)"
            ]
          },
          "metadata": {},
          "execution_count": 46
        }
      ]
    },
    {
      "cell_type": "code",
      "source": [
        "#VISUALIZAÇÃO DOS QUARTIS:\n",
        "quartis = np.quantile(jogadores , [ 0 , 0.25 , 0.5 , 0.75 , 1])\n",
        "quartis"
      ],
      "metadata": {
        "colab": {
          "base_uri": "https://localhost:8080/"
        },
        "id": "sUtAzZpnCcbZ",
        "outputId": "47d3d687-6fc9-46fb-ab5a-b3988e8c54d9"
      },
      "execution_count": 47,
      "outputs": [
        {
          "output_type": "execute_result",
          "data": {
            "text/plain": [
              "array([  4000.,  18000.,  40000., 250000., 800000.])"
            ]
          },
          "metadata": {},
          "execution_count": 47
        }
      ]
    },
    {
      "cell_type": "code",
      "source": [
        "#VISUALIZAÇÃO DO DESVIO PADRÃO:\n",
        "np.std(jogadores, ddof = 1)"
      ],
      "metadata": {
        "colab": {
          "base_uri": "https://localhost:8080/"
        },
        "id": "gzKqP8X5DThQ",
        "outputId": "d8d14030-0453-41ad-a1bf-8a0e75d55c2f"
      },
      "execution_count": 49,
      "outputs": [
        {
          "output_type": "execute_result",
          "data": {
            "text/plain": [
              "np.float64(258062.22333210864)"
            ]
          },
          "metadata": {},
          "execution_count": 49
        }
      ]
    },
    {
      "cell_type": "code",
      "source": [
        "stats.describe(jogadores)\n",
        "#EXIBE DADOS ESTATÍSTICOS DOS JOGADORES:"
      ],
      "metadata": {
        "colab": {
          "base_uri": "https://localhost:8080/"
        },
        "id": "g86WbHiWDnN3",
        "outputId": "49fd1e7f-5691-4522-965c-25390d9954c3"
      },
      "execution_count": 50,
      "outputs": [
        {
          "output_type": "execute_result",
          "data": {
            "text/plain": [
              "DescribeResult(nobs=np.int64(9), minmax=(np.int64(4000), np.int64(800000)), mean=np.float64(177111.11111111112), variance=np.float64(66596111111.111115), skewness=np.float64(1.731066617271761), kurtosis=np.float64(1.8797779586598082))"
            ]
          },
          "metadata": {},
          "execution_count": 50
        }
      ]
    },
    {
      "cell_type": "code",
      "source": [
        "#DISTRIBUIÇÃO NORMAL:\n",
        "#Conjunto de dados em uma cesta, a média é 8 e o desvio padrão é igual a 2\n",
        "#Qual a probabilidade de retirar um objeto em que o peso é menor de 6 quilos?\n",
        "norm.cdf(6,8,2)"
      ],
      "metadata": {
        "colab": {
          "base_uri": "https://localhost:8080/"
        },
        "id": "Iz94DxQ2EInH",
        "outputId": "bd2853b5-72d6-46dc-ed6e-95377e8385dd"
      },
      "execution_count": 52,
      "outputs": [
        {
          "output_type": "execute_result",
          "data": {
            "text/plain": [
              "np.float64(0.15865525393145707)"
            ]
          },
          "metadata": {},
          "execution_count": 52
        }
      ]
    },
    {
      "cell_type": "code",
      "source": [
        "#Qual a probabilidade de retirar um objeto em que o peso é maior que 6 quilos?\n",
        "1 - norm.cdf(6,8,2)"
      ],
      "metadata": {
        "colab": {
          "base_uri": "https://localhost:8080/"
        },
        "id": "Ryvlo0n1TnmK",
        "outputId": "33786847-67e9-4379-8f02-1ed2b2cd3150"
      },
      "execution_count": 53,
      "outputs": [
        {
          "output_type": "execute_result",
          "data": {
            "text/plain": [
              "np.float64(0.8413447460685429)"
            ]
          },
          "metadata": {},
          "execution_count": 53
        }
      ]
    },
    {
      "cell_type": "code",
      "source": [
        "#Qual a probabilidade de retirar um objeto em que o peso é menor que 6 ou maior que 10 quilos?\n",
        "norm.cdf(6,8,2) + norm.sf(10,8,2)\n",
        "#cdf - até um valor\n",
        "#sf - maior que x"
      ],
      "metadata": {
        "colab": {
          "base_uri": "https://localhost:8080/"
        },
        "id": "F9IxdZrlUmh3",
        "outputId": "06c68444-2e22-4c44-9be9-72e3994a6d34"
      },
      "execution_count": 54,
      "outputs": [
        {
          "output_type": "execute_result",
          "data": {
            "text/plain": [
              "np.float64(0.31731050786291415)"
            ]
          },
          "metadata": {},
          "execution_count": 54
        }
      ]
    },
    {
      "cell_type": "code",
      "source": [
        "#Qual a probabilidade de retirar um objeto que o peso é menor que 10 e maior que 8 quilos?\n",
        "norm.cdf(10,8,2) - norm.sf(8,8,2)"
      ],
      "metadata": {
        "colab": {
          "base_uri": "https://localhost:8080/"
        },
        "id": "SiMHUrbRWK7Y",
        "outputId": "cbc8438c-f070-4f70-eb01-cbb2a029be57"
      },
      "execution_count": 55,
      "outputs": [
        {
          "output_type": "execute_result",
          "data": {
            "text/plain": [
              "np.float64(0.3413447460685429)"
            ]
          },
          "metadata": {},
          "execution_count": 55
        }
      ]
    },
    {
      "cell_type": "code",
      "source": [
        "#TESTE DE DISTRIBUIÇÃO NORMAL:\n",
        "#Criação de uma variável com dados em uma distribuição normal com a função rvs.\n",
        "#norm - distribuição simétrica\n",
        "#skewnorm - assimétrica\n",
        "dados = norm.rvs(size = 1000)\n",
        "dados"
      ],
      "metadata": {
        "colab": {
          "base_uri": "https://localhost:8080/"
        },
        "id": "m9MZJ9ErYIvp",
        "outputId": "5762c591-0bcd-4b6a-8991-632cd4f1ccd7"
      },
      "execution_count": 62,
      "outputs": [
        {
          "output_type": "execute_result",
          "data": {
            "text/plain": [
              "array([-4.74005345e-01,  1.35884038e-01, -2.57688291e+00,  5.07223130e-01,\n",
              "       -9.59349877e-01,  2.98763404e-01,  3.05635257e-01, -1.10980202e+00,\n",
              "       -5.96816199e-01,  1.02803103e+00, -1.73806892e+00,  3.40709365e-01,\n",
              "        1.22430487e-01, -4.41635357e-01, -7.13846764e-01, -1.70369092e+00,\n",
              "        6.27304425e-01,  5.97830985e-01, -1.03190131e+00, -6.52432606e-03,\n",
              "       -8.41197414e-01,  7.15716335e-01, -1.25699919e+00,  1.67704212e-01,\n",
              "        8.65748198e-03,  3.92409826e-02, -6.23144203e-01,  1.40675262e+00,\n",
              "       -9.50310539e-01, -1.37091440e+00,  3.05960209e-01,  1.17863157e+00,\n",
              "       -1.57606925e+00, -8.56428478e-02,  4.38475056e-01,  4.13509808e-01,\n",
              "        2.15164423e+00,  1.12568985e+00,  1.11423765e+00, -5.80548652e-01,\n",
              "       -1.39393633e+00,  7.96835100e-01, -6.34056626e-01,  9.57600206e-01,\n",
              "       -3.68930427e-01, -7.24838537e-01,  4.64266485e-01,  1.28428641e+00,\n",
              "        6.35314966e-01,  5.01065322e-01, -1.95335730e+00,  1.21801904e-01,\n",
              "        1.23267556e+00, -4.31001071e-01,  1.08246444e+00,  1.82742972e+00,\n",
              "       -5.50529384e-01, -7.89645230e-01, -1.12198558e+00,  3.58275175e-01,\n",
              "       -8.09360008e-01,  1.55522786e+00,  1.22854167e+00, -7.28127125e-01,\n",
              "       -5.76771655e-01,  3.73551127e-01,  1.20458202e+00,  5.28275369e-01,\n",
              "       -1.17207417e+00, -1.58471028e+00,  7.69552057e-01,  8.75301027e-02,\n",
              "        1.72360845e+00,  1.27105530e+00,  4.91656322e-02, -1.16857306e+00,\n",
              "        3.64765346e-01,  5.97213822e-01,  9.55568206e-01,  1.75119553e-01,\n",
              "        5.48890428e-01, -1.36971665e+00,  3.93755989e-01,  2.49963167e-01,\n",
              "       -1.37716167e-01,  9.33670241e-01,  2.01582841e-01, -7.24391348e-01,\n",
              "        7.49215914e-01, -1.13459235e+00,  1.02422604e-01, -4.00731417e-01,\n",
              "        4.43466277e-01, -4.53021643e-01,  7.30079469e-01,  1.27503724e+00,\n",
              "       -1.18527825e+00, -1.32828586e-01, -5.62715312e-01, -2.01008919e+00,\n",
              "       -1.15703684e+00,  3.18094483e-02, -4.88204354e-02,  3.12474682e-01,\n",
              "        1.76042426e-01, -1.19763254e+00,  9.99525992e-01, -1.41875787e+00,\n",
              "       -2.50035166e-01, -5.82309316e-01, -1.00281580e+00, -1.95546855e-01,\n",
              "       -7.93305498e-01, -2.20409335e+00,  6.32811125e-01, -4.94020630e-01,\n",
              "        1.87389098e+00,  3.37649509e-01,  1.35732756e+00, -2.13923444e-01,\n",
              "        1.57809368e+00, -2.29580127e+00, -4.22747408e-01, -4.32683991e-01,\n",
              "        5.84352904e-01,  4.62046679e-01, -1.21304560e+00, -1.44845531e-01,\n",
              "        1.24478909e-01,  2.09439454e+00, -6.42796398e-01,  2.74659025e-01,\n",
              "        1.17968890e+00,  3.63090057e-01,  9.03460764e-01, -2.23178389e-01,\n",
              "       -1.50801543e-02,  1.14505853e+00, -7.46275585e-01, -1.96307163e-01,\n",
              "        8.80545728e-01,  1.07911399e+00, -2.25144535e-01, -1.57533243e+00,\n",
              "       -5.12892341e-01, -2.18992947e-01, -3.65694520e-01, -6.16045165e-01,\n",
              "       -9.15469219e-01, -4.40429300e-01,  6.89468795e-01,  5.90830275e-01,\n",
              "        1.37109787e+00,  1.27679595e+00,  1.49362106e-01,  9.13544661e-01,\n",
              "       -6.96616704e-01,  1.03722015e+00, -2.57718128e-01, -2.20115983e-01,\n",
              "       -6.40533840e-01,  1.55142962e+00,  1.52582001e-01, -1.84593912e+00,\n",
              "       -1.37632734e+00,  2.31037127e-01,  5.11192365e-01, -7.38796899e-01,\n",
              "       -1.75828933e+00, -1.29529938e+00,  1.51018817e+00, -1.09710124e+00,\n",
              "        7.50632129e-01,  2.21675557e-02,  2.46848149e-01, -1.83543977e+00,\n",
              "       -1.62029772e+00,  8.31418695e-01,  1.89111126e-01, -1.87856105e+00,\n",
              "       -9.70533653e-01,  3.40771553e-01,  8.29690860e-01,  7.29343901e-01,\n",
              "        1.11074198e+00, -7.02283210e-02,  6.97171179e-01, -8.85421085e-01,\n",
              "       -1.25408172e+00, -1.38500063e+00, -1.47397799e+00, -2.05818557e+00,\n",
              "        2.93754536e-01, -2.18186666e-01, -1.54896527e+00,  1.06098388e+00,\n",
              "        1.20572519e+00,  1.66513832e+00, -1.39906466e+00,  1.58318714e-01,\n",
              "        1.75521106e-01, -2.35311562e-01, -3.67038625e-01, -1.68825324e+00,\n",
              "        1.03591430e+00, -1.50868845e-01,  1.06045055e+00,  1.16283703e+00,\n",
              "       -1.00447523e-01,  1.28983387e+00,  1.05416745e+00,  5.27683047e-01,\n",
              "        5.81892245e-02,  1.30291483e+00, -1.22236964e-01,  1.28751760e+00,\n",
              "       -1.16340843e-01, -6.79149019e-01,  4.40383723e-01,  5.37915507e-01,\n",
              "        4.57519740e-01,  6.86458262e-01,  4.41173374e-02,  9.54818928e-01,\n",
              "       -1.89800489e-01,  5.74756887e-01, -7.84445627e-01, -1.26129070e+00,\n",
              "       -2.54293838e+00, -1.04395662e+00, -4.17226216e-01, -9.26712782e-02,\n",
              "       -7.20804190e-01,  1.10422879e+00, -3.90497872e-02,  2.82698762e-01,\n",
              "        1.35736776e-01,  8.53776372e-01, -5.07722933e-01,  6.78813044e-01,\n",
              "        4.19277093e-01, -4.67158740e-01, -1.73307875e+00, -8.77622891e-01,\n",
              "        1.67555656e-01,  6.44730478e-01,  5.31735676e-01,  5.99243713e-01,\n",
              "        1.29622431e+00,  6.15931819e-01, -3.75753166e-01, -1.02098581e+00,\n",
              "       -1.14146644e+00,  4.76211737e-01,  2.07231170e+00, -7.87516258e-02,\n",
              "        1.07352523e+00, -7.71667894e-01, -9.01375398e-01, -6.80922408e-01,\n",
              "        1.19653367e+00, -1.72883317e+00,  1.35208712e+00,  1.06628500e+00,\n",
              "       -6.33522657e-01, -6.80426572e-01,  1.30408647e+00, -3.76256731e-01,\n",
              "       -2.05999838e-01,  3.03101595e-01, -7.76598538e-01,  5.27006429e-01,\n",
              "       -8.20216700e-01,  1.25464132e+00,  2.00578848e+00, -4.16544440e-01,\n",
              "        4.68612689e-01,  6.76370270e-01, -1.32794521e+00,  4.71333396e-01,\n",
              "       -1.25072059e+00, -1.18583972e+00, -4.60839939e-01, -1.31131997e-02,\n",
              "        8.44033634e-01,  5.73796245e-01,  1.36840233e-01,  4.32567310e-01,\n",
              "        7.47209958e-01, -1.12249212e+00,  9.46818732e-01, -1.07997148e+00,\n",
              "        1.21110881e+00, -1.25824456e-01, -2.62106604e-01,  8.16234610e-01,\n",
              "        1.46237957e-02, -3.16902343e-01, -2.36964103e-01,  1.61948495e-01,\n",
              "        1.12924363e+00, -1.53836257e-01,  1.98724007e-01,  1.69285245e-01,\n",
              "        1.04858569e+00,  1.05475088e-01, -4.03867826e-01,  1.58247408e-02,\n",
              "        2.28198035e+00,  1.62783322e-01, -1.06399414e+00,  4.69993760e-01,\n",
              "       -6.34805698e-01,  1.33070595e-01,  1.22484484e+00,  9.84051168e-02,\n",
              "       -9.38376710e-01,  2.67039403e-01,  3.58330372e-01,  8.59390976e-01,\n",
              "        2.20915356e-01,  7.04186828e-01,  5.33044526e-03, -3.32200504e-01,\n",
              "       -4.13709218e-01, -5.81641135e-01,  2.79299950e+00,  7.31806751e-01,\n",
              "       -7.01898255e-02,  1.44776832e+00,  5.73522694e-02, -9.22237632e-01,\n",
              "        1.05516548e+00,  1.91680197e+00,  5.52598209e-01, -2.68988792e+00,\n",
              "        4.16888142e-01, -1.42787284e+00, -1.97533057e-01, -3.74752851e-01,\n",
              "        1.41340519e+00, -3.66632190e-01, -5.96450060e-01,  5.53888455e-01,\n",
              "       -3.03661673e+00,  1.30330315e-01,  2.25238809e-02, -1.69688814e+00,\n",
              "        6.49667037e-01, -5.08336332e-01, -3.04989077e+00,  4.12106267e-03,\n",
              "        1.34268226e+00, -9.75020187e-02,  2.12145326e+00, -1.70433797e-01,\n",
              "       -1.17567220e-01, -4.24535138e-01,  1.81559923e-01, -1.74954269e+00,\n",
              "        8.70502997e-01, -3.42232037e-01,  1.26299272e+00,  3.26276379e-01,\n",
              "       -8.57377510e-01,  2.14942642e-01,  8.76236749e-02,  8.16682349e-01,\n",
              "       -1.61658088e+00,  5.28878207e-01, -1.69840841e+00, -1.32044924e+00,\n",
              "        9.09158302e-01,  9.11998855e-01, -1.00799705e+00,  1.81920615e+00,\n",
              "        2.79436003e-02,  4.17363809e-01, -2.61423171e-02,  1.16848501e+00,\n",
              "       -7.94339497e-01,  8.59856566e-02, -3.22464270e-02, -4.24820153e-01,\n",
              "        1.06275718e+00, -1.36853893e+00,  2.00320233e-01,  6.59010988e-01,\n",
              "       -1.26128753e+00,  1.18079096e+00, -1.38155020e+00,  9.55398885e-01,\n",
              "        1.54014581e-01,  3.75922644e-01, -8.25727480e-02,  5.68865118e-01,\n",
              "       -5.48271132e-01, -8.28424050e-01,  1.72826863e-01,  1.28692540e+00,\n",
              "       -6.66553102e-01,  4.80703764e-01,  1.12817450e+00, -1.31568397e-01,\n",
              "        1.27411568e-01,  5.82566672e-01, -3.78681365e-01, -5.62639372e-01,\n",
              "        8.34821815e-01,  5.81767443e-01,  2.68863148e-01, -8.97522789e-01,\n",
              "       -5.18048697e-01, -5.35602673e-02,  1.61662049e+00,  3.17699226e-01,\n",
              "       -1.19283773e+00,  8.37954155e-01,  1.52763507e-01, -1.90919815e+00,\n",
              "       -1.13366093e+00, -9.23280878e-01, -8.77348383e-02,  5.14181633e-01,\n",
              "        1.97209217e+00,  6.56752861e-01,  1.10087288e+00,  9.00577714e-01,\n",
              "       -1.70956405e+00, -1.10764994e+00,  8.63594794e-01, -2.34484010e+00,\n",
              "       -1.23928752e+00,  1.08868769e+00,  1.42865348e+00, -4.58556126e-01,\n",
              "        1.04006422e+00, -8.25535035e-01,  5.35497024e-01,  7.19596072e-01,\n",
              "       -1.59358969e+00,  4.50140446e-01, -2.72432172e-01, -1.83884303e+00,\n",
              "       -1.44432946e+00,  1.98492032e-01,  1.44601490e+00, -1.33572507e+00,\n",
              "       -9.01051926e-01,  1.27098398e+00,  1.78676267e-03, -1.16323237e+00,\n",
              "       -1.67320156e-02,  6.02923414e-01,  4.02217958e-01, -4.29432428e-01,\n",
              "        1.53426452e-01, -2.47211795e-01,  9.03353849e-01,  5.91685687e-01,\n",
              "        1.48925574e-01,  5.62234006e-02, -1.11845626e+00, -1.39274298e+00,\n",
              "       -7.63599073e-01, -2.41644857e-01, -1.48767748e+00,  1.64116015e+00,\n",
              "       -1.76763229e+00, -3.34675026e-01,  1.25736712e-01,  1.48030461e+00,\n",
              "       -1.55448628e+00, -7.47923607e-01, -1.07260430e+00, -2.94166022e-01,\n",
              "       -7.80035059e-01,  3.61742672e-02, -1.01594584e-01, -8.79066053e-01,\n",
              "       -1.30118167e+00, -1.33553777e+00, -1.03231152e-01,  4.59944820e-01,\n",
              "       -9.73203911e-01, -9.87692832e-01,  1.32441744e+00,  5.19162348e-01,\n",
              "       -1.11150632e+00, -1.39013289e+00, -4.05593581e-01,  7.78443376e-01,\n",
              "       -1.77733690e+00, -4.25904309e-01, -9.57130193e-01,  1.16396319e-01,\n",
              "        5.33338113e-01, -6.36166673e-01, -5.56091487e-02, -1.19187597e+00,\n",
              "        2.47065142e-01,  2.70574062e-01,  3.79527621e-01,  6.81373137e-01,\n",
              "        3.28586318e-01, -7.76134604e-02,  3.14406985e-01, -1.15891609e+00,\n",
              "        3.69048337e-01,  2.14745878e-01, -1.24473874e+00,  3.72121391e-01,\n",
              "        1.52435330e-01,  1.70067904e+00,  2.55632238e+00, -2.85333003e-02,\n",
              "        2.96262790e-01,  5.61403081e-01, -1.33034272e+00,  1.62398256e+00,\n",
              "       -1.95573250e-01,  1.69535570e+00,  3.24898694e-02, -4.66299467e-01,\n",
              "        7.11033017e-01, -3.03180605e-01, -1.19573030e+00, -2.86207251e-01,\n",
              "       -5.52214963e-01,  1.08743643e+00, -3.21147640e-02,  1.68784214e-01,\n",
              "        9.96306785e-02, -2.10799617e-01,  7.25972876e-01,  2.66364710e-01,\n",
              "        1.47941598e+00,  4.64072968e-02,  2.00562950e+00, -6.46787398e-03,\n",
              "        4.39901253e-01, -1.15083385e+00,  1.04700908e+00,  2.79319464e-01,\n",
              "       -3.95750546e-01, -1.13499954e+00, -1.74999369e+00, -1.02916898e-01,\n",
              "        1.50545681e+00, -4.72830589e-02, -2.43785975e-01,  5.17469417e-01,\n",
              "       -1.12894922e-01, -1.02891976e+00, -1.00193765e+00, -8.72041596e-01,\n",
              "        2.35068626e+00,  5.29655446e-01,  3.40973812e-01, -3.66909958e-01,\n",
              "        4.69972924e-01, -1.21718993e+00, -1.57830618e+00, -2.57550131e-01,\n",
              "       -2.28397687e+00, -2.54112870e-01,  4.01370524e-02, -7.23594393e-01,\n",
              "        1.80217262e+00, -1.36885446e-01,  5.42826402e-01,  5.09029159e-01,\n",
              "       -7.55307298e-01, -1.20036832e+00,  3.47449387e-01,  9.36632634e-01,\n",
              "        2.98383226e+00,  1.75196764e-01, -2.74879140e-03, -1.02331367e+00,\n",
              "       -1.56784966e+00, -3.23318986e-01, -1.46214561e+00,  2.75491833e-01,\n",
              "       -1.89643397e+00,  6.49262105e-02, -6.26059557e-01, -8.94859773e-01,\n",
              "       -3.53721573e-01, -1.49569279e+00, -1.10485078e+00, -1.05038332e+00,\n",
              "        4.02224493e-01, -8.62995261e-01, -4.99596651e-01,  8.41874798e-01,\n",
              "        1.43191060e-02,  2.37738519e+00,  1.37222327e+00, -9.13149254e-01,\n",
              "        2.78369245e-01,  9.81502223e-01,  3.10556995e-01,  3.89908095e-01,\n",
              "        1.40326969e+00, -1.31236173e-01,  6.69485590e-01,  6.51369301e-01,\n",
              "        3.51182088e-01,  1.73705023e+00,  1.64203689e+00, -7.85796472e-01,\n",
              "        2.43296506e-01,  2.66665303e-01,  5.99900160e-01,  1.55016108e-01,\n",
              "        5.26283052e-01,  5.06370048e-01, -3.43449032e-01, -3.66639211e-02,\n",
              "       -2.42822892e+00, -1.21823177e+00,  4.32294005e-02,  2.64997192e-01,\n",
              "        3.66239455e-01,  1.99001545e+00,  1.17384610e+00, -4.89048881e-01,\n",
              "       -4.99788652e-01, -1.45444216e+00,  7.74895060e-01, -1.46478134e-01,\n",
              "       -1.76942276e+00,  1.28407812e+00, -8.85324291e-01,  1.04597315e+00,\n",
              "       -5.44907661e-01, -7.90619219e-01, -7.92804119e-01,  1.32880717e+00,\n",
              "       -2.45479033e-01,  1.54057832e+00, -1.96641053e+00, -8.74305260e-01,\n",
              "       -1.14816742e+00,  7.87256875e-01, -6.73109478e-01,  8.55647997e-02,\n",
              "       -1.44428336e+00,  8.06500701e-01,  2.61667836e-01, -6.82125497e-02,\n",
              "        3.07720719e-01, -4.10065988e-01,  6.18318748e-01,  1.76558382e-01,\n",
              "       -4.37394301e-01, -9.40059797e-01,  8.01525968e-01,  6.97272433e-01,\n",
              "        9.03758362e-02, -2.06299762e-01, -2.52271702e+00, -1.38351348e+00,\n",
              "       -1.52067291e+00, -9.60147883e-01,  6.50406781e-01, -2.74541374e-01,\n",
              "       -1.69616069e+00,  1.03579772e+00,  7.55619914e-01,  2.22863162e+00,\n",
              "       -1.94539671e-01,  1.12807118e+00,  1.78811740e+00, -2.33372856e+00,\n",
              "        1.60739587e-02,  2.20243147e-01, -4.46036745e-01, -9.10316103e-01,\n",
              "        2.33766316e-01,  1.68921473e+00, -2.58750533e+00, -1.49813086e+00,\n",
              "       -1.61625874e-01, -1.22281796e-01,  4.75560937e-01, -3.25051776e-01,\n",
              "        1.40183017e+00, -7.66244044e-01,  5.58970835e-01, -7.54375952e-01,\n",
              "        3.61276046e-01, -9.10890141e-01,  2.15965523e-01,  3.89495058e-01,\n",
              "       -4.40850626e-01, -1.61796374e+00, -1.11840119e-01,  1.99480137e+00,\n",
              "        1.03358193e+00,  1.09614744e+00, -4.08914373e-01, -1.43599248e+00,\n",
              "       -2.71989903e+00, -1.08590189e+00, -1.25753638e+00, -8.44908871e-01,\n",
              "       -7.45711032e-01, -7.09252346e-01,  7.47480553e-01,  1.51550083e+00,\n",
              "        6.64402629e-03, -1.14981503e+00,  3.75128032e-01, -1.65156912e-01,\n",
              "        2.64959912e-01,  6.49200015e-01,  1.42040501e+00,  1.49013030e+00,\n",
              "       -3.98875883e-01, -3.24083075e-01, -2.10975713e+00, -5.46629393e-01,\n",
              "        6.26957302e-01,  6.06274204e-01,  6.40754850e-01,  6.97079589e-01,\n",
              "       -6.56817238e-01, -2.63138565e-02, -5.47047729e-01,  8.45782341e-01,\n",
              "        2.16169461e+00, -5.95554902e-01,  1.82179115e+00, -1.65021003e-01,\n",
              "       -9.85701952e-01, -7.11999424e-01, -2.36984452e-01,  2.87058599e-01,\n",
              "        3.16380430e-01, -6.92521213e-01,  1.45919444e+00, -3.87614700e-01,\n",
              "       -2.55132107e-01, -1.65835551e+00, -1.11829817e+00, -9.31748026e-02,\n",
              "        1.06533429e+00, -4.54310262e-01,  8.42005658e-01, -7.06742152e-01,\n",
              "        3.78610818e-01, -4.07146163e-01, -1.13148518e+00, -2.02770204e-01,\n",
              "       -4.75499735e-01, -2.10606021e+00,  1.31168278e+00, -2.06403022e-01,\n",
              "        9.70101743e-01, -9.03895130e-01,  6.15879089e-01, -2.73719862e-02,\n",
              "        5.04916964e-01,  1.87006162e+00,  9.49719865e-01, -3.73629295e-01,\n",
              "       -1.45227830e-01,  2.79117065e-02, -5.87710389e-01, -8.61514556e-01,\n",
              "       -5.74837289e-01,  6.03562447e-02, -1.74794906e+00,  8.71255625e-01,\n",
              "       -5.40606934e-01,  1.38362827e-01,  2.77403166e-01, -5.60314403e-04,\n",
              "        6.92290176e-01,  3.55509096e-01, -8.69322476e-01,  1.97409228e-01,\n",
              "        7.60814729e-01,  1.38976012e+00,  7.65250145e-01, -5.58475742e-01,\n",
              "       -4.99684422e-01, -1.16109520e+00,  3.42900013e-01, -1.94232599e-01,\n",
              "        9.07798985e-01,  1.11259106e-01,  6.74220133e-02, -6.22825335e-01,\n",
              "       -3.90210765e-01,  1.27321534e+00, -5.99630647e-02, -2.02321824e-01,\n",
              "       -3.28493723e-01, -1.76415686e-01, -1.47596817e+00, -4.85097454e-01,\n",
              "        1.70774710e-01,  1.01082591e+00, -2.03515107e-02,  7.24491082e-01,\n",
              "       -2.08763032e+00,  2.96981420e-01, -2.08201514e+00,  7.32715423e-01,\n",
              "        2.48427933e-01, -5.10767460e-01,  5.41308312e-03,  1.16125777e+00,\n",
              "        1.48318783e-01,  6.39778098e-01,  1.00896909e+00,  1.02849018e+00,\n",
              "        9.17426092e-01,  2.04565775e-01, -1.63192623e-01, -1.40541764e+00,\n",
              "       -4.11048394e-01, -8.33951148e-01, -2.37329873e-01, -6.62620785e-01,\n",
              "        6.70198958e-01,  4.57274486e-01, -1.46722986e-01, -1.33611282e-01,\n",
              "        5.89265211e-02,  1.86518519e-01, -4.46653036e-01, -8.79728515e-01,\n",
              "       -8.57494544e-01, -3.10969038e-01,  1.73602795e-01,  1.47342533e+00,\n",
              "        1.13746558e+00, -1.36699572e+00,  8.70293676e-01,  7.38643722e-02,\n",
              "       -8.32556189e-01,  8.64896146e-01, -4.46762555e-01,  6.60159952e-01,\n",
              "        1.69900221e+00,  3.48344922e-01, -1.95531605e+00, -8.85023775e-01,\n",
              "        7.35014207e-01,  3.33612030e-01,  3.74410000e-02,  1.12544300e+00,\n",
              "        7.98393080e-01,  1.89295070e+00,  5.50434166e-01, -1.69055986e+00,\n",
              "        8.07693179e-02,  1.67416041e+00, -9.02934191e-01, -5.69987172e-01,\n",
              "        5.49558077e-01,  3.29167529e-01, -1.28065422e-01,  3.52025910e-01,\n",
              "       -1.75381291e+00,  2.47097487e-01, -1.39728428e-01,  5.67441789e-01,\n",
              "       -5.01422011e-01, -1.50581020e+00,  1.15441912e+00, -6.51786033e-01,\n",
              "       -6.18720126e-01, -1.11904998e+00,  5.89896877e-02, -3.23737038e-01,\n",
              "       -5.16172919e-01, -9.47052348e-02,  1.15133853e+00, -6.91739704e-02,\n",
              "       -3.87170487e-01, -1.13134405e+00,  3.14187957e-01, -7.72564826e-01,\n",
              "       -7.81168058e-01, -1.03502933e+00, -4.68673792e-01, -1.97377644e-01,\n",
              "       -1.82205647e+00,  1.26905083e+00, -3.46151937e-01, -5.17319576e-01,\n",
              "        6.83058230e-01, -1.08010636e+00, -1.61365429e+00, -6.03133727e-01,\n",
              "       -1.72950392e+00,  1.80425246e+00,  7.23519651e-01,  9.79519647e-01,\n",
              "        1.83602139e-01, -1.19347252e+00, -7.40722288e-01,  9.88253098e-01,\n",
              "        1.25627388e+00,  1.25912026e-01, -4.35987693e-01,  1.73938941e-02,\n",
              "        1.35922052e+00, -1.64767315e+00, -2.74068321e-01,  5.75969427e-01,\n",
              "       -3.01909781e-01,  5.19104697e-01,  3.55721015e-01, -6.24702183e-01,\n",
              "        6.51320851e-01, -9.01466349e-01, -1.99290421e-01,  4.89902875e-02,\n",
              "        4.21436688e-01,  3.18930704e-01, -5.13649587e-01, -4.14604227e-01,\n",
              "        2.01089128e-01, -1.02312966e+00,  1.63598547e-01, -7.68323872e-01,\n",
              "        4.04377308e-01, -1.08469767e-01, -5.45639039e-01,  1.77623668e+00,\n",
              "       -1.68731509e+00,  7.95304918e-01, -9.44230602e-01, -2.17600604e-01,\n",
              "        1.31432773e+00,  4.78557547e-01,  6.11281503e-01, -1.53674436e+00,\n",
              "       -4.01149870e-01, -1.01838604e+00, -4.44549501e-01,  2.37504666e-01,\n",
              "       -3.69877126e-01, -1.56058429e+00,  9.98175168e-02, -1.42195239e+00,\n",
              "        1.01191400e+00,  2.33215805e+00,  6.34260368e-01,  3.67982789e-01,\n",
              "        3.73178802e-01,  9.56348006e-01,  5.65385873e-01,  6.59898063e-01,\n",
              "       -1.98295701e+00, -3.27507510e+00,  5.17072686e-01,  7.47708970e-01,\n",
              "        9.46857547e-01, -1.90686702e+00, -8.19012792e-01,  3.92494892e-01,\n",
              "        3.33248707e-01,  1.17488833e+00, -2.27276426e+00, -4.44853493e-01,\n",
              "        4.49485361e-01,  2.51053616e-01, -6.85780935e-01,  2.29358269e+00,\n",
              "       -8.07031142e-01, -1.37825497e+00, -1.63402398e+00,  1.37059891e-01,\n",
              "       -1.06251816e+00,  1.03341180e+00, -7.29200485e-01,  4.17380509e-01,\n",
              "        1.30710389e-01,  4.88597876e-01,  3.82206674e-01, -1.54111939e+00,\n",
              "        5.02604324e-01, -3.19290838e-02, -5.44274609e-01, -1.43742335e-01,\n",
              "       -1.34076381e-01,  1.09437352e+00,  4.37547820e-01, -8.75935845e-01,\n",
              "        1.62284360e+00, -7.26426352e-01,  1.45169799e+00,  3.88696630e-01])"
            ]
          },
          "metadata": {},
          "execution_count": 62
        }
      ]
    },
    {
      "cell_type": "code",
      "source": [
        "plt.hist(dados, bins = 20)"
      ],
      "metadata": {
        "colab": {
          "base_uri": "https://localhost:8080/",
          "height": 572
        },
        "id": "GheuO0-TatdV",
        "outputId": "3d478831-e7a7-4747-9c0f-22401f01cc4b"
      },
      "execution_count": 63,
      "outputs": [
        {
          "output_type": "execute_result",
          "data": {
            "text/plain": [
              "(array([  3.,   2.,   6.,  10.,  25.,  43.,  64.,  77.,  88., 114., 134.,\n",
              "        134., 106.,  76.,  58.,  29.,  17.,  10.,   2.,   2.]),\n",
              " array([-3.2750751 , -2.96212973, -2.64918436, -2.33623899, -2.02329363,\n",
              "        -1.71034826, -1.39740289, -1.08445752, -0.77151216, -0.45856679,\n",
              "        -0.14562142,  0.16732395,  0.48026932,  0.79321468,  1.10616005,\n",
              "         1.41910542,  1.73205079,  2.04499615,  2.35794152,  2.67088689,\n",
              "         2.98383226]),\n",
              " <BarContainer object of 20 artists>)"
            ]
          },
          "metadata": {},
          "execution_count": 63
        },
        {
          "output_type": "display_data",
          "data": {
            "text/plain": [
              "<Figure size 640x480 with 1 Axes>"
            ],
            "image/png": "[encoded data removed]"
          },
          "metadata": {}
        }
      ]
    },
    {
      "cell_type": "code",
      "source": [
        "#GERAÇÃO DO GRÁFICO PARA VERIFICAR SE A DISTRIBUIÇÃO É NORMAL:\n",
        "fig,ax = plt.subplots()\n",
        "stats.probplot(dados , fit = True, plot = ax)\n",
        "plt.show()"
      ],
      "metadata": {
        "colab": {
          "base_uri": "https://localhost:8080/",
          "height": 472
        },
        "id": "-qKtugKrbc41",
        "outputId": "94435f88-1de0-4fa8-86fa-d58ab6b4e252"
      },
      "execution_count": 64,
      "outputs": [
        {
          "output_type": "display_data",
          "data": {
            "text/plain": [
              "<Figure size 640x480 with 1 Axes>"
            ],
            "image/png": "[encoded data removed]"
          },
          "metadata": {}
        }
      ]
    },
    {
      "cell_type": "code",
      "source": [
        "#TESTE DE SHAPIRO - Checa a hipótese alternativa de que os dados não estão distribuídos de forma regular.\n",
        "#Calcula-se o valor de p , compara esse valor com o 0,5.Se p < 0,05 = Os dados não seguem distribuição normal.\n",
        "#Se p >= 0,05 = Os dados seguem uma distribuição normal.\n",
        "stats.shapiro(dados)"
      ],
      "metadata": {
        "colab": {
          "base_uri": "https://localhost:8080/"
        },
        "id": "9PAFOfXxcfd_",
        "outputId": "fdca605a-dbce-431d-9569-ad563bd3b740"
      },
      "execution_count": 65,
      "outputs": [
        {
          "output_type": "execute_result",
          "data": {
            "text/plain": [
              "ShapiroResult(statistic=np.float64(0.9981882948413298), pvalue=np.float64(0.3706345298379224))"
            ]
          },
          "metadata": {},
          "execution_count": 65
        }
      ]
    },
    {
      "cell_type": "code",
      "source": [
        "#0.37 > 0,05 , então há uma distribuição normal nos dados"
      ],
      "metadata": {
        "id": "ajvQFSqJeYtC"
      },
      "execution_count": null,
      "outputs": []
    },
    {
      "cell_type": "code",
      "source": [
        "#Agora uma distribuição assimétrica:\n",
        "dados2 = skewnorm.rvs(4 , size = 1000)\n"
      ],
      "metadata": {
        "id": "H62ACKLxfFHi"
      },
      "execution_count": 67,
      "outputs": []
    },
    {
      "cell_type": "code",
      "source": [
        "plt.hist(dados2 , bins = 20)\n",
        "plt.title('Dados')\n",
        "#OS DADOS NÃO ESTÃO NORMALMENTE DISTRIBUÍDOS."
      ],
      "metadata": {
        "colab": {
          "base_uri": "https://localhost:8080/",
          "height": 469
        },
        "id": "GtglMzS9f1jP",
        "outputId": "81c45c79-47f2-4dde-c3c3-171f042b6bb0"
      },
      "execution_count": 69,
      "outputs": [
        {
          "output_type": "execute_result",
          "data": {
            "text/plain": [
              "Text(0.5, 1.0, 'Dados')"
            ]
          },
          "metadata": {},
          "execution_count": 69
        },
        {
          "output_type": "display_data",
          "data": {
            "text/plain": [
              "<Figure size 640x480 with 1 Axes>"
            ],
            "image/png": "[encoded data removed]"
          },
          "metadata": {}
        }
      ]
    },
    {
      "cell_type": "code",
      "source": [
        "#GERAÇÃO DE GRÉFICO PARA VERIFICAR SE A DISTRIBUIÇÃO É NORMAL:\n",
        "fig,ax = plt.subplots()\n",
        "stats.probplot(dados2 , fit = True, plot = ax)\n",
        "plt.show()\n"
      ],
      "metadata": {
        "colab": {
          "base_uri": "https://localhost:8080/",
          "height": 472
        },
        "id": "NH3H7xT3gMxO",
        "outputId": "9c82ff04-044d-42ff-98d9-a12d63e247f1"
      },
      "execution_count": 70,
      "outputs": [
        {
          "output_type": "display_data",
          "data": {
            "text/plain": [
              "<Figure size 640x480 with 1 Axes>"
            ],
            "image/png": "[encoded data removed]"
          },
          "metadata": {}
        }
      ]
    },
    {
      "cell_type": "code",
      "source": [
        "#EXECUÇÃO DO TESTE DE SHAPIRO:\n",
        "stats.shapiro(dados2)"
      ],
      "metadata": {
        "colab": {
          "base_uri": "https://localhost:8080/"
        },
        "id": "cJubVaQeg30u",
        "outputId": "abf88029-7e06-421a-971e-e0aaef2e20a5"
      },
      "execution_count": 71,
      "outputs": [
        {
          "output_type": "execute_result",
          "data": {
            "text/plain": [
              "ShapiroResult(statistic=np.float64(0.967316863695964), pvalue=np.float64(3.354630569687285e-14))"
            ]
          },
          "metadata": {},
          "execution_count": 71
        }
      ]
    },
    {
      "cell_type": "code",
      "source": [
        "#0,00003... < 0,05 , os dados não possuem uma distribuição normal.Rejeição da hipótese numa."
      ],
      "metadata": {
        "id": "iPBSIW9yhI0q"
      },
      "execution_count": null,
      "outputs": []
    }
  ]
}